{
  "cells": [
    {
      "cell_type": "markdown",
      "metadata": {
        "id": "gJ2A6t3mdEed"
      },
      "source": [
        "В цьому домашньому завданні ми побудуємо рішення задачі логістичної регресії і створимо ваш перший submission на змагання на Kaggle. Усі кроки були розглянуті в лекції та містяться в ноутбуці `Логістична регресія з ScikitLearn. Повна ML задача.ipynb`, але тепер ми їх адаптуємо до іншої задачі - все як в реальному житті, коли ви знайшли код у відкритих джерелах і адаптуєте на проєкті 😉\n",
        "\n",
        "**Погнали! 🚀🚀🚀**\n",
        "\n",
        "-----------\n",
        "\n",
        "\n",
        "\n",
        "0. Завантажте дані `train.csv`, `test.csv`, `sample_submission.csv` зі змагання на Kaggle - шукайте посилання в уроці [Запрошення до участі у Kaggle-змаганні.](https://data-loves.kwiga.com/courses/machine-learning-dlia-liudei/domashnie-zavdannia-zmagannia-z-kaggle) Для завантаження потрібно долучитись до змагання (натиснути кнопку \"Join\").\n",
        "\n",
        "1. Зчитайте дані `train.csv` в pandas dataframe та розбийте їх на train і validation піднабори.\n",
        "\n",
        "  * Є такий параметр в методі train_test_split як stratified. Можливо він буде Вам корисним при розбитті даних в цій задачі. Пропоную Вам почитати про нього в документації і спробувати скористатись."
      ]
    },
    {
      "cell_type": "code",
      "execution_count": 409,
      "metadata": {
        "id": "2J2bS-kL2cHV"
      },
      "outputs": [],
      "source": [
        "import opendatasets as od\n",
        "import os\n",
        "import pandas as pd\n",
        "import numpy as np\n",
        "from sklearn.model_selection import train_test_split\n",
        "from sklearn import preprocessing\n",
        "from sklearn.preprocessing import MinMaxScaler\n",
        "import matplotlib.pyplot as plt\n",
        "import seaborn as sns\n",
        "import warnings\n",
        "from sklearn.linear_model import LogisticRegression\n",
        "from sklearn.metrics import accuracy_score\n",
        "from sklearn.metrics import confusion_matrix\n",
        "from sklearn.metrics import f1_score\n",
        "from sklearn.metrics import roc_curve, auc\n",
        "import joblib"
      ]
    },
    {
      "cell_type": "code",
      "execution_count": 410,
      "metadata": {},
      "outputs": [
        {
          "data": {
            "text/plain": [
              "'0.1.22'"
            ]
          },
          "execution_count": 410,
          "metadata": {},
          "output_type": "execute_result"
        }
      ],
      "source": [
        "od.__version__"
      ]
    },
    {
      "cell_type": "code",
      "execution_count": 411,
      "metadata": {},
      "outputs": [],
      "source": [
        "# 0\n",
        "\n",
        "dataset_url= 'https://www.kaggle.com/competitions/bank-customer-churn-prediction-dlu-course-c-3/data'"
      ]
    },
    {
      "cell_type": "code",
      "execution_count": 412,
      "metadata": {},
      "outputs": [
        {
          "name": "stdout",
          "output_type": "stream",
          "text": [
            "Skipping, found downloaded files in \".\\bank-customer-churn-prediction-dlu-course-c-3\" (use force=True to force download)\n"
          ]
        }
      ],
      "source": [
        "od.download(dataset_url)"
      ]
    },
    {
      "cell_type": "code",
      "execution_count": 413,
      "metadata": {},
      "outputs": [],
      "source": [
        "data_dir = 'bank-customer-churn-prediction-dlu-course-c-3'"
      ]
    },
    {
      "cell_type": "code",
      "execution_count": 414,
      "metadata": {},
      "outputs": [
        {
          "data": {
            "text/plain": [
              "['sample_submission.csv', 'test.csv', 'train.csv']"
            ]
          },
          "execution_count": 414,
          "metadata": {},
          "output_type": "execute_result"
        }
      ],
      "source": [
        "os.listdir(data_dir)"
      ]
    },
    {
      "cell_type": "code",
      "execution_count": 415,
      "metadata": {},
      "outputs": [],
      "source": [
        "# 1\n",
        "\n",
        "train_csv = data_dir + '/train.csv'\n",
        "raw_train = pd.read_csv(train_csv)"
      ]
    },
    {
      "cell_type": "code",
      "execution_count": 416,
      "metadata": {},
      "outputs": [
        {
          "name": "stdout",
          "output_type": "stream",
          "text": [
            "<class 'pandas.core.frame.DataFrame'>\n",
            "RangeIndex: 15000 entries, 0 to 14999\n",
            "Data columns (total 14 columns):\n",
            " #   Column           Non-Null Count  Dtype  \n",
            "---  ------           --------------  -----  \n",
            " 0   id               15000 non-null  int64  \n",
            " 1   CustomerId       15000 non-null  float64\n",
            " 2   Surname          15000 non-null  object \n",
            " 3   CreditScore      15000 non-null  float64\n",
            " 4   Geography        15000 non-null  object \n",
            " 5   Gender           15000 non-null  object \n",
            " 6   Age              15000 non-null  float64\n",
            " 7   Tenure           15000 non-null  float64\n",
            " 8   Balance          15000 non-null  float64\n",
            " 9   NumOfProducts    15000 non-null  float64\n",
            " 10  HasCrCard        15000 non-null  float64\n",
            " 11  IsActiveMember   15000 non-null  float64\n",
            " 12  EstimatedSalary  15000 non-null  float64\n",
            " 13  Exited           15000 non-null  float64\n",
            "dtypes: float64(10), int64(1), object(3)\n",
            "memory usage: 1.6+ MB\n"
          ]
        }
      ],
      "source": [
        "raw_train.info()"
      ]
    },
    {
      "cell_type": "code",
      "execution_count": 417,
      "metadata": {},
      "outputs": [
        {
          "data": {
            "text/plain": [
              "Gender\n",
              "Male      0.5686\n",
              "Female    0.4314\n",
              "Name: proportion, dtype: float64"
            ]
          },
          "execution_count": 417,
          "metadata": {},
          "output_type": "execute_result"
        }
      ],
      "source": [
        "raw_train.Gender.value_counts(normalize=True)"
      ]
    },
    {
      "cell_type": "code",
      "execution_count": 418,
      "metadata": {},
      "outputs": [
        {
          "data": {
            "text/plain": [
              "Geography\n",
              "France     0.602133\n",
              "Spain      0.220200\n",
              "Germany    0.177667\n",
              "Name: proportion, dtype: float64"
            ]
          },
          "execution_count": 418,
          "metadata": {},
          "output_type": "execute_result"
        }
      ],
      "source": [
        "raw_train.Geography.value_counts(normalize=True)"
      ]
    },
    {
      "cell_type": "code",
      "execution_count": 419,
      "metadata": {},
      "outputs": [
        {
          "data": {
            "text/html": [
              "<div>\n",
              "<style scoped>\n",
              "    .dataframe tbody tr th:only-of-type {\n",
              "        vertical-align: middle;\n",
              "    }\n",
              "\n",
              "    .dataframe tbody tr th {\n",
              "        vertical-align: top;\n",
              "    }\n",
              "\n",
              "    .dataframe thead th {\n",
              "        text-align: right;\n",
              "    }\n",
              "</style>\n",
              "<table border=\"1\" class=\"dataframe\">\n",
              "  <thead>\n",
              "    <tr style=\"text-align: right;\">\n",
              "      <th></th>\n",
              "      <th>id</th>\n",
              "      <th>CreditScore</th>\n",
              "      <th>Geography</th>\n",
              "      <th>Gender</th>\n",
              "      <th>Age</th>\n",
              "      <th>Tenure</th>\n",
              "      <th>Balance</th>\n",
              "      <th>NumOfProducts</th>\n",
              "      <th>HasCrCard</th>\n",
              "      <th>IsActiveMember</th>\n",
              "      <th>EstimatedSalary</th>\n",
              "      <th>Exited</th>\n",
              "    </tr>\n",
              "  </thead>\n",
              "  <tbody>\n",
              "    <tr>\n",
              "      <th>999</th>\n",
              "      <td>999</td>\n",
              "      <td>602.0</td>\n",
              "      <td>Germany</td>\n",
              "      <td>Female</td>\n",
              "      <td>52.0</td>\n",
              "      <td>6.0</td>\n",
              "      <td>131834.76</td>\n",
              "      <td>1.0</td>\n",
              "      <td>1.0</td>\n",
              "      <td>0.0</td>\n",
              "      <td>84584.69</td>\n",
              "      <td>1.0</td>\n",
              "    </tr>\n",
              "    <tr>\n",
              "      <th>5592</th>\n",
              "      <td>5592</td>\n",
              "      <td>648.0</td>\n",
              "      <td>France</td>\n",
              "      <td>Female</td>\n",
              "      <td>56.0</td>\n",
              "      <td>4.0</td>\n",
              "      <td>103891.47</td>\n",
              "      <td>1.0</td>\n",
              "      <td>1.0</td>\n",
              "      <td>0.0</td>\n",
              "      <td>151871.84</td>\n",
              "      <td>1.0</td>\n",
              "    </tr>\n",
              "    <tr>\n",
              "      <th>4635</th>\n",
              "      <td>4635</td>\n",
              "      <td>729.0</td>\n",
              "      <td>France</td>\n",
              "      <td>Female</td>\n",
              "      <td>33.0</td>\n",
              "      <td>3.0</td>\n",
              "      <td>0.00</td>\n",
              "      <td>1.0</td>\n",
              "      <td>1.0</td>\n",
              "      <td>0.0</td>\n",
              "      <td>82867.55</td>\n",
              "      <td>0.0</td>\n",
              "    </tr>\n",
              "    <tr>\n",
              "      <th>11162</th>\n",
              "      <td>11162</td>\n",
              "      <td>735.0</td>\n",
              "      <td>France</td>\n",
              "      <td>Male</td>\n",
              "      <td>31.0</td>\n",
              "      <td>6.0</td>\n",
              "      <td>0.00</td>\n",
              "      <td>2.0</td>\n",
              "      <td>1.0</td>\n",
              "      <td>1.0</td>\n",
              "      <td>123866.43</td>\n",
              "      <td>0.0</td>\n",
              "    </tr>\n",
              "    <tr>\n",
              "      <th>11729</th>\n",
              "      <td>11729</td>\n",
              "      <td>587.0</td>\n",
              "      <td>France</td>\n",
              "      <td>Male</td>\n",
              "      <td>30.0</td>\n",
              "      <td>5.0</td>\n",
              "      <td>0.00</td>\n",
              "      <td>2.0</td>\n",
              "      <td>0.0</td>\n",
              "      <td>0.0</td>\n",
              "      <td>133871.83</td>\n",
              "      <td>0.0</td>\n",
              "    </tr>\n",
              "  </tbody>\n",
              "</table>\n",
              "</div>"
            ],
            "text/plain": [
              "          id  CreditScore Geography  Gender   Age  Tenure    Balance  \\\n",
              "999      999        602.0   Germany  Female  52.0     6.0  131834.76   \n",
              "5592    5592        648.0    France  Female  56.0     4.0  103891.47   \n",
              "4635    4635        729.0    France  Female  33.0     3.0       0.00   \n",
              "11162  11162        735.0    France    Male  31.0     6.0       0.00   \n",
              "11729  11729        587.0    France    Male  30.0     5.0       0.00   \n",
              "\n",
              "       NumOfProducts  HasCrCard  IsActiveMember  EstimatedSalary  Exited  \n",
              "999              1.0        1.0             0.0         84584.69     1.0  \n",
              "5592             1.0        1.0             0.0        151871.84     1.0  \n",
              "4635             1.0        1.0             0.0         82867.55     0.0  \n",
              "11162            2.0        1.0             1.0        123866.43     0.0  \n",
              "11729            2.0        0.0             0.0        133871.83     0.0  "
            ]
          },
          "execution_count": 419,
          "metadata": {},
          "output_type": "execute_result"
        }
      ],
      "source": [
        "# Видалимо ID клієнта за умовами завдання, а також прізвище як неінформативну ознаку\n",
        "raw_train_wo_id_surname = raw_train.drop(['CustomerId', 'Surname'], axis=1)\n",
        "raw_train_wo_id_surname.sample(5)"
      ]
    },
    {
      "cell_type": "code",
      "execution_count": 420,
      "metadata": {},
      "outputs": [
        {
          "data": {
            "text/plain": [
              "\"from imblearn.under_sampling import RandomUnderSampler\\nrand_samp = RandomUnderSampler()\\nX_resampled = rand_samp.fit_resample(raw_train_wo_id_surname, raw_train_wo_id_surname['Exited'])\\n\""
            ]
          },
          "execution_count": 420,
          "metadata": {},
          "output_type": "execute_result"
        }
      ],
      "source": [
        "'''from imblearn.under_sampling import RandomUnderSampler\n",
        "rand_samp = RandomUnderSampler()\n",
        "X_resampled = rand_samp.fit_resample(raw_train_wo_id_surname, raw_train_wo_id_surname['Exited'])\n",
        "'''"
      ]
    },
    {
      "cell_type": "code",
      "execution_count": 421,
      "metadata": {},
      "outputs": [
        {
          "name": "stdout",
          "output_type": "stream",
          "text": [
            "train_df.shape : (11250, 12)\n",
            "val_df.shape : (3750, 12)\n"
          ]
        }
      ],
      "source": [
        "# Поділимо train\n",
        "train_df, val_df = train_test_split(raw_train_wo_id_surname, test_size=0.25, random_state=42)\n",
        "print('train_df.shape :', train_df.shape)\n",
        "print('val_df.shape :', val_df.shape)"
      ]
    },
    {
      "cell_type": "markdown",
      "metadata": {
        "id": "YmhrsCrThfKp"
      },
      "source": [
        "2. Визначіть назви колонок, які сформують вхідні незалежні дані, в змінній `input_cols` та назву колонки , яка є цільовою, в змінній `target_col`. Використовуючи `input_cols` та `target_col` створіть набори даних `train_inputs`, `train_targets`, `val_inputs`, `val_targets` - де `inputs` - вхідні дані (датафрейм), `targets` - дані цільової колонки відповідного піднабору."
      ]
    },
    {
      "cell_type": "code",
      "execution_count": 422,
      "metadata": {
        "id": "BB1PSRP92d2y"
      },
      "outputs": [
        {
          "name": "stdout",
          "output_type": "stream",
          "text": [
            "['CreditScore', 'Geography', 'Gender', 'Age', 'Tenure', 'Balance', 'NumOfProducts', 'HasCrCard', 'IsActiveMember', 'EstimatedSalary'] \n",
            " Exited\n"
          ]
        }
      ],
      "source": [
        "# 2\n",
        "input_cols = list(train_df.columns)[1:-1]\n",
        "target_col = list(train_df.columns)[-1]\n",
        "print(input_cols,'\\n', target_col)"
      ]
    },
    {
      "cell_type": "code",
      "execution_count": 423,
      "metadata": {},
      "outputs": [],
      "source": [
        "train_inputs = train_df[input_cols].copy()\n",
        "train_targets = train_df[target_col].copy()\n",
        "val_inputs = val_df[input_cols].copy()\n",
        "val_targets = val_df[target_col].copy()"
      ]
    },
    {
      "cell_type": "markdown",
      "metadata": {
        "id": "BqhiVXa-iY5P"
      },
      "source": [
        "3. Визначіть з допомогою `pandas.DataFrame.select_dtypes` назви колонок, які є числовими і категоріальними. Запишіть результати в `numeric_cols` та `categorical_cols` відповідно."
      ]
    },
    {
      "cell_type": "code",
      "execution_count": 424,
      "metadata": {
        "id": "pz6Et14-2eRH"
      },
      "outputs": [
        {
          "data": {
            "text/plain": [
              "(['CreditScore',\n",
              "  'Age',\n",
              "  'Tenure',\n",
              "  'Balance',\n",
              "  'NumOfProducts',\n",
              "  'HasCrCard',\n",
              "  'IsActiveMember',\n",
              "  'EstimatedSalary'],\n",
              " ['Geography', 'Gender'])"
            ]
          },
          "execution_count": 424,
          "metadata": {},
          "output_type": "execute_result"
        }
      ],
      "source": [
        "numeric_cols = train_inputs.select_dtypes(include=np.number).columns.tolist()\n",
        "categorical_cols = train_inputs.select_dtypes('object').columns.tolist()\n",
        "numeric_cols, categorical_cols"
      ]
    },
    {
      "cell_type": "markdown",
      "metadata": {
        "id": "gz3W57xXlIO2"
      },
      "source": [
        "4. Зробіть підготовку даних в категоріальних і числових колонках для входу в модель виходячи з освоєного на даний момент на курсі. Варіанти пеердобробки, з якими ми вже знайомі:\n",
        "  - масштабування числових ознак,\n",
        "  - заповнення пропущених значень, якщо вони є,\n",
        "  - кодування категоріальних ознак, вилучення ознак, якщо ми вважаємо, що ці дані нерелевантні для моделі аби ми не бачимо способу як їх так закодувати, аби подати на вхід моделі.\n",
        "\n",
        "  Тут є багато варіантів, як Ви побудуєте передобробку, важливо аби\n",
        "  1) передобробка мала сенс (немає сенсу заповнювати дані константою, яку ми не зрозуміло звідки взяли)   \n",
        "  2) має бути виконана принаймні одна дія передобробки\n",
        "  3) обробка маэ бути виконана коректно і для тренувальних, і для вал. даних\n",
        "  4) чим вищий у Вас врешті вийде ROС AUC скор, тим більше шансів перемогти у змаганні :)\n",
        "\n",
        "  Опишіть рішення проведення кожного з кроків передобробки. Для чого ви його робите? По завершенню виведіть по 5 значен з `train_inputs`, `val_inputs` використовуючи `display()`."
      ]
    },
    {
      "cell_type": "markdown",
      "metadata": {},
      "source": [
        "**4. Відповідь**\n",
        "\n",
        "1. На самому початку я видалила Customer ID - як було вказано в завданні. А також видалила стовпець Surname, який по суті дублює Customer ID і не є інформативним для моделі.\n",
        "2. Категоріальні закодую за допомогою OneHotEnkoder - Geography, в ознаках лище 3 значення. Gender перетворю на бінарну числову ознаку.\n",
        "3. Перевірю наявність пропущених значень\n",
        "4. Числові виглядають непогано. Проаналізую Balance, є ідея окремо визначати тих, у кого є грошові залишки.\n"
      ]
    },
    {
      "cell_type": "code",
      "execution_count": 425,
      "metadata": {},
      "outputs": [],
      "source": [
        "# 2\n",
        "# Закодуємо Gender\n",
        "Gender_codes = {'Female': 0, 'Male': 1}\n",
        "train_inputs['Gender_codes'] = train_inputs.Gender.map(Gender_codes)\n",
        "val_inputs['Gender_codes'] = val_inputs.Gender.map(Gender_codes)"
      ]
    },
    {
      "cell_type": "code",
      "execution_count": 426,
      "metadata": {},
      "outputs": [
        {
          "name": "stdout",
          "output_type": "stream",
          "text": [
            "[array(['France', 'Germany', 'Spain'], dtype=object)]\n"
          ]
        },
        {
          "data": {
            "text/html": [
              "<div>\n",
              "<style scoped>\n",
              "    .dataframe tbody tr th:only-of-type {\n",
              "        vertical-align: middle;\n",
              "    }\n",
              "\n",
              "    .dataframe tbody tr th {\n",
              "        vertical-align: top;\n",
              "    }\n",
              "\n",
              "    .dataframe thead th {\n",
              "        text-align: right;\n",
              "    }\n",
              "</style>\n",
              "<table border=\"1\" class=\"dataframe\">\n",
              "  <thead>\n",
              "    <tr style=\"text-align: right;\">\n",
              "      <th></th>\n",
              "      <th>CreditScore</th>\n",
              "      <th>Geography</th>\n",
              "      <th>Gender</th>\n",
              "      <th>Age</th>\n",
              "      <th>Tenure</th>\n",
              "      <th>Balance</th>\n",
              "      <th>NumOfProducts</th>\n",
              "      <th>HasCrCard</th>\n",
              "      <th>IsActiveMember</th>\n",
              "      <th>EstimatedSalary</th>\n",
              "      <th>Gender_codes</th>\n",
              "      <th>France</th>\n",
              "      <th>Germany</th>\n",
              "      <th>Spain</th>\n",
              "    </tr>\n",
              "  </thead>\n",
              "  <tbody>\n",
              "    <tr>\n",
              "      <th>11499</th>\n",
              "      <td>656.0</td>\n",
              "      <td>Germany</td>\n",
              "      <td>Male</td>\n",
              "      <td>36.0</td>\n",
              "      <td>2.0</td>\n",
              "      <td>81370.07</td>\n",
              "      <td>2.0</td>\n",
              "      <td>0.0</td>\n",
              "      <td>1.0</td>\n",
              "      <td>116469.19</td>\n",
              "      <td>1</td>\n",
              "      <td>0.0</td>\n",
              "      <td>1.0</td>\n",
              "      <td>0.0</td>\n",
              "    </tr>\n",
              "    <tr>\n",
              "      <th>6475</th>\n",
              "      <td>602.0</td>\n",
              "      <td>France</td>\n",
              "      <td>Male</td>\n",
              "      <td>63.0</td>\n",
              "      <td>5.0</td>\n",
              "      <td>92466.21</td>\n",
              "      <td>1.0</td>\n",
              "      <td>1.0</td>\n",
              "      <td>0.0</td>\n",
              "      <td>176913.42</td>\n",
              "      <td>1</td>\n",
              "      <td>1.0</td>\n",
              "      <td>0.0</td>\n",
              "      <td>0.0</td>\n",
              "    </tr>\n",
              "    <tr>\n",
              "      <th>13167</th>\n",
              "      <td>687.0</td>\n",
              "      <td>Germany</td>\n",
              "      <td>Male</td>\n",
              "      <td>33.0</td>\n",
              "      <td>6.0</td>\n",
              "      <td>125845.66</td>\n",
              "      <td>2.0</td>\n",
              "      <td>1.0</td>\n",
              "      <td>0.0</td>\n",
              "      <td>147963.07</td>\n",
              "      <td>1</td>\n",
              "      <td>0.0</td>\n",
              "      <td>1.0</td>\n",
              "      <td>0.0</td>\n",
              "    </tr>\n",
              "    <tr>\n",
              "      <th>862</th>\n",
              "      <td>580.0</td>\n",
              "      <td>France</td>\n",
              "      <td>Male</td>\n",
              "      <td>46.0</td>\n",
              "      <td>1.0</td>\n",
              "      <td>126576.62</td>\n",
              "      <td>1.0</td>\n",
              "      <td>0.0</td>\n",
              "      <td>0.0</td>\n",
              "      <td>172450.04</td>\n",
              "      <td>1</td>\n",
              "      <td>1.0</td>\n",
              "      <td>0.0</td>\n",
              "      <td>0.0</td>\n",
              "    </tr>\n",
              "    <tr>\n",
              "      <th>5970</th>\n",
              "      <td>683.0</td>\n",
              "      <td>Spain</td>\n",
              "      <td>Female</td>\n",
              "      <td>35.0</td>\n",
              "      <td>4.0</td>\n",
              "      <td>162442.35</td>\n",
              "      <td>1.0</td>\n",
              "      <td>1.0</td>\n",
              "      <td>1.0</td>\n",
              "      <td>96498.14</td>\n",
              "      <td>0</td>\n",
              "      <td>0.0</td>\n",
              "      <td>0.0</td>\n",
              "      <td>1.0</td>\n",
              "    </tr>\n",
              "  </tbody>\n",
              "</table>\n",
              "</div>"
            ],
            "text/plain": [
              "       CreditScore Geography  Gender   Age  Tenure    Balance  NumOfProducts  \\\n",
              "11499        656.0   Germany    Male  36.0     2.0   81370.07            2.0   \n",
              "6475         602.0    France    Male  63.0     5.0   92466.21            1.0   \n",
              "13167        687.0   Germany    Male  33.0     6.0  125845.66            2.0   \n",
              "862          580.0    France    Male  46.0     1.0  126576.62            1.0   \n",
              "5970         683.0     Spain  Female  35.0     4.0  162442.35            1.0   \n",
              "\n",
              "       HasCrCard  IsActiveMember  EstimatedSalary  Gender_codes  France  \\\n",
              "11499        0.0             1.0        116469.19             1     0.0   \n",
              "6475         1.0             0.0        176913.42             1     1.0   \n",
              "13167        1.0             0.0        147963.07             1     0.0   \n",
              "862          0.0             0.0        172450.04             1     1.0   \n",
              "5970         1.0             1.0         96498.14             0     0.0   \n",
              "\n",
              "       Germany  Spain  \n",
              "11499      1.0    0.0  \n",
              "6475       0.0    0.0  \n",
              "13167      1.0    0.0  \n",
              "862        0.0    0.0  \n",
              "5970       0.0    1.0  "
            ]
          },
          "execution_count": 426,
          "metadata": {},
          "output_type": "execute_result"
        }
      ],
      "source": [
        "# Закодуємо Geography\n",
        "enc = preprocessing.OneHotEncoder()\n",
        "enc.fit(train_inputs[['Geography']])\n",
        "print(enc.categories_)\n",
        "one_hot_train = enc.transform(train_inputs[['Geography']]).toarray()\n",
        "one_hot_val = enc.transform(val_inputs[['Geography']]).toarray()\n",
        "train_inputs[enc.categories_[0]] = one_hot_train\n",
        "val_inputs[enc.categories_[0]] = one_hot_val\n",
        "val_inputs.head(5)\n"
      ]
    },
    {
      "cell_type": "code",
      "execution_count": 427,
      "metadata": {},
      "outputs": [
        {
          "data": {
            "text/plain": [
              "CreditScore        0\n",
              "Geography          0\n",
              "Gender             0\n",
              "Age                0\n",
              "Tenure             0\n",
              "Balance            0\n",
              "NumOfProducts      0\n",
              "HasCrCard          0\n",
              "IsActiveMember     0\n",
              "EstimatedSalary    0\n",
              "Gender_codes       0\n",
              "France             0\n",
              "Germany            0\n",
              "Spain              0\n",
              "dtype: int64"
            ]
          },
          "execution_count": 427,
          "metadata": {},
          "output_type": "execute_result"
        }
      ],
      "source": [
        "# 3\n",
        "train_inputs.isna().sum()"
      ]
    },
    {
      "cell_type": "markdown",
      "metadata": {},
      "source": [
        "Пропущених значень немає. Але вони можуть бути"
      ]
    },
    {
      "cell_type": "code",
      "execution_count": 428,
      "metadata": {},
      "outputs": [
        {
          "data": {
            "text/html": [
              "<div>\n",
              "<style scoped>\n",
              "    .dataframe tbody tr th:only-of-type {\n",
              "        vertical-align: middle;\n",
              "    }\n",
              "\n",
              "    .dataframe tbody tr th {\n",
              "        vertical-align: top;\n",
              "    }\n",
              "\n",
              "    .dataframe thead th {\n",
              "        text-align: right;\n",
              "    }\n",
              "</style>\n",
              "<table border=\"1\" class=\"dataframe\">\n",
              "  <thead>\n",
              "    <tr style=\"text-align: right;\">\n",
              "      <th></th>\n",
              "      <th>CreditScore</th>\n",
              "      <th>Age</th>\n",
              "      <th>Tenure</th>\n",
              "      <th>Balance</th>\n",
              "      <th>NumOfProducts</th>\n",
              "      <th>HasCrCard</th>\n",
              "      <th>IsActiveMember</th>\n",
              "      <th>EstimatedSalary</th>\n",
              "    </tr>\n",
              "  </thead>\n",
              "  <tbody>\n",
              "    <tr>\n",
              "      <th>count</th>\n",
              "      <td>11250.00</td>\n",
              "      <td>11250.00</td>\n",
              "      <td>11250.00</td>\n",
              "      <td>11250.00</td>\n",
              "      <td>11250.00</td>\n",
              "      <td>11250.00</td>\n",
              "      <td>11250.00</td>\n",
              "      <td>11250.00</td>\n",
              "    </tr>\n",
              "    <tr>\n",
              "      <th>mean</th>\n",
              "      <td>659.70</td>\n",
              "      <td>37.72</td>\n",
              "      <td>5.01</td>\n",
              "      <td>42289.10</td>\n",
              "      <td>1.60</td>\n",
              "      <td>0.79</td>\n",
              "      <td>0.49</td>\n",
              "      <td>117881.64</td>\n",
              "    </tr>\n",
              "    <tr>\n",
              "      <th>std</th>\n",
              "      <td>72.47</td>\n",
              "      <td>8.22</td>\n",
              "      <td>2.78</td>\n",
              "      <td>59506.53</td>\n",
              "      <td>0.54</td>\n",
              "      <td>0.41</td>\n",
              "      <td>0.50</td>\n",
              "      <td>45741.40</td>\n",
              "    </tr>\n",
              "    <tr>\n",
              "      <th>min</th>\n",
              "      <td>431.00</td>\n",
              "      <td>18.00</td>\n",
              "      <td>0.00</td>\n",
              "      <td>0.00</td>\n",
              "      <td>1.00</td>\n",
              "      <td>0.00</td>\n",
              "      <td>0.00</td>\n",
              "      <td>11.58</td>\n",
              "    </tr>\n",
              "    <tr>\n",
              "      <th>25%</th>\n",
              "      <td>604.00</td>\n",
              "      <td>32.00</td>\n",
              "      <td>3.00</td>\n",
              "      <td>0.00</td>\n",
              "      <td>1.00</td>\n",
              "      <td>1.00</td>\n",
              "      <td>0.00</td>\n",
              "      <td>83085.03</td>\n",
              "    </tr>\n",
              "    <tr>\n",
              "      <th>50%</th>\n",
              "      <td>663.00</td>\n",
              "      <td>37.00</td>\n",
              "      <td>5.00</td>\n",
              "      <td>0.00</td>\n",
              "      <td>2.00</td>\n",
              "      <td>1.00</td>\n",
              "      <td>0.00</td>\n",
              "      <td>123587.83</td>\n",
              "    </tr>\n",
              "    <tr>\n",
              "      <th>75%</th>\n",
              "      <td>709.00</td>\n",
              "      <td>42.00</td>\n",
              "      <td>7.00</td>\n",
              "      <td>108902.95</td>\n",
              "      <td>2.00</td>\n",
              "      <td>1.00</td>\n",
              "      <td>1.00</td>\n",
              "      <td>157097.09</td>\n",
              "    </tr>\n",
              "    <tr>\n",
              "      <th>max</th>\n",
              "      <td>850.00</td>\n",
              "      <td>74.00</td>\n",
              "      <td>10.00</td>\n",
              "      <td>209767.31</td>\n",
              "      <td>4.00</td>\n",
              "      <td>1.00</td>\n",
              "      <td>1.00</td>\n",
              "      <td>199992.48</td>\n",
              "    </tr>\n",
              "  </tbody>\n",
              "</table>\n",
              "</div>"
            ],
            "text/plain": [
              "       CreditScore       Age    Tenure    Balance  NumOfProducts  HasCrCard  \\\n",
              "count     11250.00  11250.00  11250.00   11250.00       11250.00   11250.00   \n",
              "mean        659.70     37.72      5.01   42289.10           1.60       0.79   \n",
              "std          72.47      8.22      2.78   59506.53           0.54       0.41   \n",
              "min         431.00     18.00      0.00       0.00           1.00       0.00   \n",
              "25%         604.00     32.00      3.00       0.00           1.00       1.00   \n",
              "50%         663.00     37.00      5.00       0.00           2.00       1.00   \n",
              "75%         709.00     42.00      7.00  108902.95           2.00       1.00   \n",
              "max         850.00     74.00     10.00  209767.31           4.00       1.00   \n",
              "\n",
              "       IsActiveMember  EstimatedSalary  \n",
              "count        11250.00         11250.00  \n",
              "mean             0.49        117881.64  \n",
              "std              0.50         45741.40  \n",
              "min              0.00            11.58  \n",
              "25%              0.00         83085.03  \n",
              "50%              0.00        123587.83  \n",
              "75%              1.00        157097.09  \n",
              "max              1.00        199992.48  "
            ]
          },
          "execution_count": 428,
          "metadata": {},
          "output_type": "execute_result"
        }
      ],
      "source": [
        "# 4\n",
        "# Перевіримо числові стовпці на адекватність значень\n",
        "train_inputs[numeric_cols].describe().round(2)"
      ]
    },
    {
      "cell_type": "markdown",
      "metadata": {},
      "source": [
        "Всі числові ознаки виглядаюсь непогано. Окрім стовпця Balance - здається, что розподіл зміщений правочруч, тому що багато 0 значень. Проаналізуємо ознаку. В середній зарплаті є викиди, треба теж проаналізувати"
      ]
    },
    {
      "cell_type": "code",
      "execution_count": 429,
      "metadata": {},
      "outputs": [],
      "source": [
        "import warnings\n",
        "\n",
        "def dist_box(dataset, column):\n",
        "    with warnings.catch_warnings():\n",
        "      warnings.simplefilter(\"ignore\")\n",
        "\n",
        "      plt.figure(figsize=(16,6))\n",
        "\n",
        "      plt.subplot(1,2,1)\n",
        "      sns.distplot(dataset[column], color = 'purple')\n",
        "      pltname = 'Графік розподілу для ' + column\n",
        "      plt.ticklabel_format(style='plain', axis='x')\n",
        "      plt.title(pltname)\n",
        "\n",
        "      plt.subplot(1,2,2)\n",
        "      red_diamond = dict(markerfacecolor='r', marker='D')\n",
        "      sns.boxplot(y = column, data = dataset, flierprops = red_diamond)\n",
        "      pltname = 'Боксплот для ' + column\n",
        "      plt.title(pltname)\n",
        "\n",
        "      plt.show()"
      ]
    },
    {
      "cell_type": "code",
      "execution_count": 430,
      "metadata": {},
      "outputs": [
        {
          "data": {
            "image/png": "[encoded data removed]",
            "text/plain": [
              "<Figure size 1600x600 with 2 Axes>"
            ]
          },
          "metadata": {},
          "output_type": "display_data"
        }
      ],
      "source": [
        "# Візуалізуємо та проаналізуємо Balance\n",
        "dist_box(train_inputs, 'Balance')"
      ]
    },
    {
      "cell_type": "code",
      "execution_count": 431,
      "metadata": {},
      "outputs": [
        {
          "data": {
            "text/plain": [
              "Balance\n",
              "0.00         7343\n",
              "51116.26        1\n",
              "51522.75        2\n",
              "53772.73        1\n",
              "54980.81        1\n",
              "             ... \n",
              "185966.64       1\n",
              "186796.37       1\n",
              "187530.66       1\n",
              "187841.99       1\n",
              "209767.31       1\n",
              "Name: count, Length: 2765, dtype: int64"
            ]
          },
          "execution_count": 431,
          "metadata": {},
          "output_type": "execute_result"
        }
      ],
      "source": [
        "train_inputs.Balance.value_counts().sort_index()"
      ]
    },
    {
      "cell_type": "code",
      "execution_count": 432,
      "metadata": {},
      "outputs": [],
      "source": [
        "# Додамо бінарну числову ознаку - є залишок грошей на балансі чи ні.\n",
        "train_inputs['Balance_codes'] = train_inputs.Balance.map(lambda x: 0 if x==0 else 1)\n",
        "val_inputs['Balance_codes'] = val_inputs.Balance.map(lambda x: 0 if x==0 else 1)"
      ]
    },
    {
      "cell_type": "code",
      "execution_count": 433,
      "metadata": {},
      "outputs": [
        {
          "data": {
            "text/html": [
              "<div>\n",
              "<style scoped>\n",
              "    .dataframe tbody tr th:only-of-type {\n",
              "        vertical-align: middle;\n",
              "    }\n",
              "\n",
              "    .dataframe tbody tr th {\n",
              "        vertical-align: top;\n",
              "    }\n",
              "\n",
              "    .dataframe thead th {\n",
              "        text-align: right;\n",
              "    }\n",
              "</style>\n",
              "<table border=\"1\" class=\"dataframe\">\n",
              "  <thead>\n",
              "    <tr style=\"text-align: right;\">\n",
              "      <th></th>\n",
              "      <th>CreditScore</th>\n",
              "      <th>Age</th>\n",
              "      <th>Tenure</th>\n",
              "      <th>Balance</th>\n",
              "      <th>NumOfProducts</th>\n",
              "      <th>HasCrCard</th>\n",
              "      <th>IsActiveMember</th>\n",
              "      <th>EstimatedSalary</th>\n",
              "    </tr>\n",
              "  </thead>\n",
              "  <tbody>\n",
              "    <tr>\n",
              "      <th>count</th>\n",
              "      <td>11250.00</td>\n",
              "      <td>11250.00</td>\n",
              "      <td>11250.00</td>\n",
              "      <td>11250.00</td>\n",
              "      <td>11250.00</td>\n",
              "      <td>11250.00</td>\n",
              "      <td>11250.00</td>\n",
              "      <td>11250.00</td>\n",
              "    </tr>\n",
              "    <tr>\n",
              "      <th>mean</th>\n",
              "      <td>0.55</td>\n",
              "      <td>0.35</td>\n",
              "      <td>0.50</td>\n",
              "      <td>0.20</td>\n",
              "      <td>0.20</td>\n",
              "      <td>0.79</td>\n",
              "      <td>0.49</td>\n",
              "      <td>0.59</td>\n",
              "    </tr>\n",
              "    <tr>\n",
              "      <th>std</th>\n",
              "      <td>0.17</td>\n",
              "      <td>0.15</td>\n",
              "      <td>0.28</td>\n",
              "      <td>0.28</td>\n",
              "      <td>0.18</td>\n",
              "      <td>0.41</td>\n",
              "      <td>0.50</td>\n",
              "      <td>0.23</td>\n",
              "    </tr>\n",
              "    <tr>\n",
              "      <th>min</th>\n",
              "      <td>0.00</td>\n",
              "      <td>0.00</td>\n",
              "      <td>0.00</td>\n",
              "      <td>0.00</td>\n",
              "      <td>0.00</td>\n",
              "      <td>0.00</td>\n",
              "      <td>0.00</td>\n",
              "      <td>0.00</td>\n",
              "    </tr>\n",
              "    <tr>\n",
              "      <th>25%</th>\n",
              "      <td>0.41</td>\n",
              "      <td>0.25</td>\n",
              "      <td>0.30</td>\n",
              "      <td>0.00</td>\n",
              "      <td>0.00</td>\n",
              "      <td>1.00</td>\n",
              "      <td>0.00</td>\n",
              "      <td>0.42</td>\n",
              "    </tr>\n",
              "    <tr>\n",
              "      <th>50%</th>\n",
              "      <td>0.55</td>\n",
              "      <td>0.34</td>\n",
              "      <td>0.50</td>\n",
              "      <td>0.00</td>\n",
              "      <td>0.33</td>\n",
              "      <td>1.00</td>\n",
              "      <td>0.00</td>\n",
              "      <td>0.62</td>\n",
              "    </tr>\n",
              "    <tr>\n",
              "      <th>75%</th>\n",
              "      <td>0.66</td>\n",
              "      <td>0.43</td>\n",
              "      <td>0.70</td>\n",
              "      <td>0.52</td>\n",
              "      <td>0.33</td>\n",
              "      <td>1.00</td>\n",
              "      <td>1.00</td>\n",
              "      <td>0.79</td>\n",
              "    </tr>\n",
              "    <tr>\n",
              "      <th>max</th>\n",
              "      <td>1.00</td>\n",
              "      <td>1.00</td>\n",
              "      <td>1.00</td>\n",
              "      <td>1.00</td>\n",
              "      <td>1.00</td>\n",
              "      <td>1.00</td>\n",
              "      <td>1.00</td>\n",
              "      <td>1.00</td>\n",
              "    </tr>\n",
              "  </tbody>\n",
              "</table>\n",
              "</div>"
            ],
            "text/plain": [
              "       CreditScore       Age    Tenure   Balance  NumOfProducts  HasCrCard  \\\n",
              "count     11250.00  11250.00  11250.00  11250.00       11250.00   11250.00   \n",
              "mean          0.55      0.35      0.50      0.20           0.20       0.79   \n",
              "std           0.17      0.15      0.28      0.28           0.18       0.41   \n",
              "min           0.00      0.00      0.00      0.00           0.00       0.00   \n",
              "25%           0.41      0.25      0.30      0.00           0.00       1.00   \n",
              "50%           0.55      0.34      0.50      0.00           0.33       1.00   \n",
              "75%           0.66      0.43      0.70      0.52           0.33       1.00   \n",
              "max           1.00      1.00      1.00      1.00           1.00       1.00   \n",
              "\n",
              "       IsActiveMember  EstimatedSalary  \n",
              "count        11250.00         11250.00  \n",
              "mean             0.49             0.59  \n",
              "std              0.50             0.23  \n",
              "min              0.00             0.00  \n",
              "25%              0.00             0.42  \n",
              "50%              0.00             0.62  \n",
              "75%              1.00             0.79  \n",
              "max              1.00             1.00  "
            ]
          },
          "execution_count": 433,
          "metadata": {},
          "output_type": "execute_result"
        }
      ],
      "source": [
        "# Масштабуємо числові ознаки\n",
        "scaler = MinMaxScaler()\n",
        "scaler.fit(train_inputs[numeric_cols])\n",
        "train_inputs[numeric_cols] = scaler.transform(train_inputs[numeric_cols])\n",
        "val_inputs[numeric_cols] = scaler.transform(val_inputs[numeric_cols])\n",
        "train_inputs[numeric_cols].describe().round(2)"
      ]
    },
    {
      "cell_type": "code",
      "execution_count": 434,
      "metadata": {
        "id": "Co2hJVl32fUz"
      },
      "outputs": [
        {
          "data": {
            "text/html": [
              "<div>\n",
              "<style scoped>\n",
              "    .dataframe tbody tr th:only-of-type {\n",
              "        vertical-align: middle;\n",
              "    }\n",
              "\n",
              "    .dataframe tbody tr th {\n",
              "        vertical-align: top;\n",
              "    }\n",
              "\n",
              "    .dataframe thead th {\n",
              "        text-align: right;\n",
              "    }\n",
              "</style>\n",
              "<table border=\"1\" class=\"dataframe\">\n",
              "  <thead>\n",
              "    <tr style=\"text-align: right;\">\n",
              "      <th></th>\n",
              "      <th>CreditScore</th>\n",
              "      <th>Geography</th>\n",
              "      <th>Gender</th>\n",
              "      <th>Age</th>\n",
              "      <th>Tenure</th>\n",
              "      <th>Balance</th>\n",
              "      <th>NumOfProducts</th>\n",
              "      <th>HasCrCard</th>\n",
              "      <th>IsActiveMember</th>\n",
              "      <th>EstimatedSalary</th>\n",
              "      <th>Gender_codes</th>\n",
              "      <th>France</th>\n",
              "      <th>Germany</th>\n",
              "      <th>Spain</th>\n",
              "      <th>Balance_codes</th>\n",
              "    </tr>\n",
              "  </thead>\n",
              "  <tbody>\n",
              "    <tr>\n",
              "      <th>7410</th>\n",
              "      <td>0.568019</td>\n",
              "      <td>Germany</td>\n",
              "      <td>Female</td>\n",
              "      <td>0.196429</td>\n",
              "      <td>0.6</td>\n",
              "      <td>0.600483</td>\n",
              "      <td>0.333333</td>\n",
              "      <td>1.0</td>\n",
              "      <td>0.0</td>\n",
              "      <td>0.794453</td>\n",
              "      <td>0</td>\n",
              "      <td>0.0</td>\n",
              "      <td>1.0</td>\n",
              "      <td>0.0</td>\n",
              "      <td>1</td>\n",
              "    </tr>\n",
              "    <tr>\n",
              "      <th>10894</th>\n",
              "      <td>0.923628</td>\n",
              "      <td>France</td>\n",
              "      <td>Male</td>\n",
              "      <td>0.178571</td>\n",
              "      <td>0.7</td>\n",
              "      <td>0.000000</td>\n",
              "      <td>0.333333</td>\n",
              "      <td>1.0</td>\n",
              "      <td>0.0</td>\n",
              "      <td>0.514536</td>\n",
              "      <td>1</td>\n",
              "      <td>1.0</td>\n",
              "      <td>0.0</td>\n",
              "      <td>0.0</td>\n",
              "      <td>0</td>\n",
              "    </tr>\n",
              "    <tr>\n",
              "      <th>1934</th>\n",
              "      <td>0.381862</td>\n",
              "      <td>France</td>\n",
              "      <td>Female</td>\n",
              "      <td>0.285714</td>\n",
              "      <td>0.7</td>\n",
              "      <td>0.000000</td>\n",
              "      <td>0.333333</td>\n",
              "      <td>1.0</td>\n",
              "      <td>1.0</td>\n",
              "      <td>0.604264</td>\n",
              "      <td>0</td>\n",
              "      <td>1.0</td>\n",
              "      <td>0.0</td>\n",
              "      <td>0.0</td>\n",
              "      <td>0</td>\n",
              "    </tr>\n",
              "    <tr>\n",
              "      <th>11539</th>\n",
              "      <td>0.293556</td>\n",
              "      <td>Spain</td>\n",
              "      <td>Male</td>\n",
              "      <td>0.303571</td>\n",
              "      <td>0.3</td>\n",
              "      <td>0.000000</td>\n",
              "      <td>0.333333</td>\n",
              "      <td>1.0</td>\n",
              "      <td>1.0</td>\n",
              "      <td>0.049869</td>\n",
              "      <td>1</td>\n",
              "      <td>0.0</td>\n",
              "      <td>0.0</td>\n",
              "      <td>1.0</td>\n",
              "      <td>0</td>\n",
              "    </tr>\n",
              "    <tr>\n",
              "      <th>2952</th>\n",
              "      <td>0.553699</td>\n",
              "      <td>Spain</td>\n",
              "      <td>Male</td>\n",
              "      <td>0.375000</td>\n",
              "      <td>0.8</td>\n",
              "      <td>0.000000</td>\n",
              "      <td>0.333333</td>\n",
              "      <td>1.0</td>\n",
              "      <td>0.0</td>\n",
              "      <td>0.619911</td>\n",
              "      <td>1</td>\n",
              "      <td>0.0</td>\n",
              "      <td>0.0</td>\n",
              "      <td>1.0</td>\n",
              "      <td>0</td>\n",
              "    </tr>\n",
              "  </tbody>\n",
              "</table>\n",
              "</div>"
            ],
            "text/plain": [
              "       CreditScore Geography  Gender       Age  Tenure   Balance  \\\n",
              "7410      0.568019   Germany  Female  0.196429     0.6  0.600483   \n",
              "10894     0.923628    France    Male  0.178571     0.7  0.000000   \n",
              "1934      0.381862    France  Female  0.285714     0.7  0.000000   \n",
              "11539     0.293556     Spain    Male  0.303571     0.3  0.000000   \n",
              "2952      0.553699     Spain    Male  0.375000     0.8  0.000000   \n",
              "\n",
              "       NumOfProducts  HasCrCard  IsActiveMember  EstimatedSalary  \\\n",
              "7410        0.333333        1.0             0.0         0.794453   \n",
              "10894       0.333333        1.0             0.0         0.514536   \n",
              "1934        0.333333        1.0             1.0         0.604264   \n",
              "11539       0.333333        1.0             1.0         0.049869   \n",
              "2952        0.333333        1.0             0.0         0.619911   \n",
              "\n",
              "       Gender_codes  France  Germany  Spain  Balance_codes  \n",
              "7410              0     0.0      1.0    0.0              1  \n",
              "10894             1     1.0      0.0    0.0              0  \n",
              "1934              0     1.0      0.0    0.0              0  \n",
              "11539             1     0.0      0.0    1.0              0  \n",
              "2952              1     0.0      0.0    1.0              0  "
            ]
          },
          "metadata": {},
          "output_type": "display_data"
        },
        {
          "data": {
            "text/html": [
              "<div>\n",
              "<style scoped>\n",
              "    .dataframe tbody tr th:only-of-type {\n",
              "        vertical-align: middle;\n",
              "    }\n",
              "\n",
              "    .dataframe tbody tr th {\n",
              "        vertical-align: top;\n",
              "    }\n",
              "\n",
              "    .dataframe thead th {\n",
              "        text-align: right;\n",
              "    }\n",
              "</style>\n",
              "<table border=\"1\" class=\"dataframe\">\n",
              "  <thead>\n",
              "    <tr style=\"text-align: right;\">\n",
              "      <th></th>\n",
              "      <th>CreditScore</th>\n",
              "      <th>Geography</th>\n",
              "      <th>Gender</th>\n",
              "      <th>Age</th>\n",
              "      <th>Tenure</th>\n",
              "      <th>Balance</th>\n",
              "      <th>NumOfProducts</th>\n",
              "      <th>HasCrCard</th>\n",
              "      <th>IsActiveMember</th>\n",
              "      <th>EstimatedSalary</th>\n",
              "      <th>Gender_codes</th>\n",
              "      <th>France</th>\n",
              "      <th>Germany</th>\n",
              "      <th>Spain</th>\n",
              "      <th>Balance_codes</th>\n",
              "    </tr>\n",
              "  </thead>\n",
              "  <tbody>\n",
              "    <tr>\n",
              "      <th>11499</th>\n",
              "      <td>0.536993</td>\n",
              "      <td>Germany</td>\n",
              "      <td>Male</td>\n",
              "      <td>0.321429</td>\n",
              "      <td>0.2</td>\n",
              "      <td>0.387906</td>\n",
              "      <td>0.333333</td>\n",
              "      <td>0.0</td>\n",
              "      <td>1.0</td>\n",
              "      <td>0.582344</td>\n",
              "      <td>1</td>\n",
              "      <td>0.0</td>\n",
              "      <td>1.0</td>\n",
              "      <td>0.0</td>\n",
              "      <td>1</td>\n",
              "    </tr>\n",
              "    <tr>\n",
              "      <th>6475</th>\n",
              "      <td>0.408115</td>\n",
              "      <td>France</td>\n",
              "      <td>Male</td>\n",
              "      <td>0.803571</td>\n",
              "      <td>0.5</td>\n",
              "      <td>0.440804</td>\n",
              "      <td>0.000000</td>\n",
              "      <td>1.0</td>\n",
              "      <td>0.0</td>\n",
              "      <td>0.884594</td>\n",
              "      <td>1</td>\n",
              "      <td>1.0</td>\n",
              "      <td>0.0</td>\n",
              "      <td>0.0</td>\n",
              "      <td>1</td>\n",
              "    </tr>\n",
              "    <tr>\n",
              "      <th>13167</th>\n",
              "      <td>0.610979</td>\n",
              "      <td>Germany</td>\n",
              "      <td>Male</td>\n",
              "      <td>0.267857</td>\n",
              "      <td>0.6</td>\n",
              "      <td>0.599930</td>\n",
              "      <td>0.333333</td>\n",
              "      <td>1.0</td>\n",
              "      <td>0.0</td>\n",
              "      <td>0.739828</td>\n",
              "      <td>1</td>\n",
              "      <td>0.0</td>\n",
              "      <td>1.0</td>\n",
              "      <td>0.0</td>\n",
              "      <td>1</td>\n",
              "    </tr>\n",
              "    <tr>\n",
              "      <th>862</th>\n",
              "      <td>0.355609</td>\n",
              "      <td>France</td>\n",
              "      <td>Male</td>\n",
              "      <td>0.500000</td>\n",
              "      <td>0.1</td>\n",
              "      <td>0.603414</td>\n",
              "      <td>0.000000</td>\n",
              "      <td>0.0</td>\n",
              "      <td>0.0</td>\n",
              "      <td>0.862275</td>\n",
              "      <td>1</td>\n",
              "      <td>1.0</td>\n",
              "      <td>0.0</td>\n",
              "      <td>0.0</td>\n",
              "      <td>1</td>\n",
              "    </tr>\n",
              "    <tr>\n",
              "      <th>5970</th>\n",
              "      <td>0.601432</td>\n",
              "      <td>Spain</td>\n",
              "      <td>Female</td>\n",
              "      <td>0.303571</td>\n",
              "      <td>0.4</td>\n",
              "      <td>0.774393</td>\n",
              "      <td>0.000000</td>\n",
              "      <td>1.0</td>\n",
              "      <td>1.0</td>\n",
              "      <td>0.482479</td>\n",
              "      <td>0</td>\n",
              "      <td>0.0</td>\n",
              "      <td>0.0</td>\n",
              "      <td>1.0</td>\n",
              "      <td>1</td>\n",
              "    </tr>\n",
              "  </tbody>\n",
              "</table>\n",
              "</div>"
            ],
            "text/plain": [
              "       CreditScore Geography  Gender       Age  Tenure   Balance  \\\n",
              "11499     0.536993   Germany    Male  0.321429     0.2  0.387906   \n",
              "6475      0.408115    France    Male  0.803571     0.5  0.440804   \n",
              "13167     0.610979   Germany    Male  0.267857     0.6  0.599930   \n",
              "862       0.355609    France    Male  0.500000     0.1  0.603414   \n",
              "5970      0.601432     Spain  Female  0.303571     0.4  0.774393   \n",
              "\n",
              "       NumOfProducts  HasCrCard  IsActiveMember  EstimatedSalary  \\\n",
              "11499       0.333333        0.0             1.0         0.582344   \n",
              "6475        0.000000        1.0             0.0         0.884594   \n",
              "13167       0.333333        1.0             0.0         0.739828   \n",
              "862         0.000000        0.0             0.0         0.862275   \n",
              "5970        0.000000        1.0             1.0         0.482479   \n",
              "\n",
              "       Gender_codes  France  Germany  Spain  Balance_codes  \n",
              "11499             1     0.0      1.0    0.0              1  \n",
              "6475              1     1.0      0.0    0.0              1  \n",
              "13167             1     0.0      1.0    0.0              1  \n",
              "862               1     1.0      0.0    0.0              1  \n",
              "5970              0     0.0      0.0    1.0              1  "
            ]
          },
          "metadata": {},
          "output_type": "display_data"
        }
      ],
      "source": [
        "# Результат обробки\n",
        "pd.set_option('display.max_columns', None)\n",
        "display(train_inputs.head(5), val_inputs.head(5))"
      ]
    },
    {
      "cell_type": "markdown",
      "metadata": {
        "id": "Gk-NVTdyoAtu"
      },
      "source": [
        "5. Збережіть дані, що містяться в змінних `train_inputs`, `train_targets`, `val_inputs`, `val_targets` на диск в форматі `parquet`. В кінці виведіть список файлів в папці, в яку Ви зберегли файли і перевірте, чи файли збереглись. Вивести список файлів можна з `os.listdir(your_dir)` або `!ls your_dir`"
      ]
    },
    {
      "cell_type": "code",
      "execution_count": 435,
      "metadata": {
        "id": "DteIwTkN2hve"
      },
      "outputs": [
        {
          "name": "stdout",
          "output_type": "stream",
          "text": [
            "train_inputs: (11250, 15)\n",
            "train_targets: (11250,)\n",
            "val_inputs: (3750, 15)\n",
            "val_targets: (3750,)\n"
          ]
        }
      ],
      "source": [
        "# 5\n",
        "print('train_inputs:', train_inputs.shape)\n",
        "print('train_targets:', train_targets.shape)\n",
        "print('val_inputs:', val_inputs.shape)\n",
        "print('val_targets:', val_targets.shape)"
      ]
    },
    {
      "cell_type": "code",
      "execution_count": 436,
      "metadata": {},
      "outputs": [
        {
          "data": {
            "text/plain": [
              "['bank-customer-churn-prediction-dlu-course-c-3',\n",
              " 'estimation_of_obesity_levels_based_on_eating_habits_and_physical.csv',\n",
              " 'exited_clients.joblib',\n",
              " 'HW_2_2_Логістична_регресія_з_scikit_learn.ipynb',\n",
              " 'HW_2_2_Логістична_регресія_з_scikit_learn_LI.ipynb',\n",
              " 'HW_2_2_Логістична_регресія_з_scikit_learn_LI2.ipynb',\n",
              " 'HW_2_2_Логістична_регресія_з_scikit_learn_LI3.ipynb',\n",
              " 'HW_2_2_Математичне_формулювання_логістичної_регресії.ipynb',\n",
              " 'HW_2_2_Математичне_формулювання_логістичної_регресії_LI.ipynb',\n",
              " 'HW_2_2_Математичне_формулювання_логістичної_регресії_Solution.ipynb',\n",
              " 'regression_data.csv',\n",
              " 'submission_log_reg.csv',\n",
              " 'submission_log_reg_1.csv',\n",
              " 'submission_log_reg_2.csv',\n",
              " 'The kaggle book.pdf',\n",
              " 'train_inputs.parquet',\n",
              " 'train_targets.parquet',\n",
              " 'val_inputs.parquet',\n",
              " 'val_targets.parquet',\n",
              " 'weather-dataset-rattle-package']"
            ]
          },
          "execution_count": 436,
          "metadata": {},
          "output_type": "execute_result"
        }
      ],
      "source": [
        "train_inputs.to_parquet('D:/DS_UA/2_2 Logistic regression/HW/train_inputs.parquet')\n",
        "val_inputs.to_parquet('D:/DS_UA/2_2 Logistic regression/HW/val_inputs.parquet')\n",
        "pd.DataFrame(train_targets).to_parquet('D:/DS_UA/2_2 Logistic regression/HW/train_targets.parquet')\n",
        "pd.DataFrame(val_targets).to_parquet('D:/DS_UA/2_2 Logistic regression/HW/val_targets.parquet')\n",
        "os.listdir()"
      ]
    },
    {
      "cell_type": "markdown",
      "metadata": {
        "id": "D5_3RjSdowGF"
      },
      "source": [
        "6. З підготовлених вхіжних даних створіть `X_train`, `X_val` набори, які містять лише колонки, які підуть на вхід моделі. Навчіть модель бінарної класифікації з допомогою `LogisticRegression` в `scikit-learn`."
      ]
    },
    {
      "cell_type": "code",
      "execution_count": 437,
      "metadata": {
        "id": "VZUkPF-e2irB"
      },
      "outputs": [
        {
          "data": {
            "text/plain": [
              "['CreditScore',\n",
              " 'Age',\n",
              " 'Tenure',\n",
              " 'Balance',\n",
              " 'NumOfProducts',\n",
              " 'HasCrCard',\n",
              " 'IsActiveMember',\n",
              " 'EstimatedSalary',\n",
              " 'Gender_codes',\n",
              " 'France',\n",
              " 'Germany',\n",
              " 'Spain',\n",
              " 'Balance_codes']"
            ]
          },
          "execution_count": 437,
          "metadata": {},
          "output_type": "execute_result"
        }
      ],
      "source": [
        "# 6\n",
        "all_col = train_inputs.columns.tolist()\n",
        "all_col.remove('Geography')\n",
        "all_col.remove('Gender')\n",
        "#all_col.remove('Balance')\n",
        "model_col = all_col\n",
        "model_col"
      ]
    },
    {
      "cell_type": "code",
      "execution_count": 438,
      "metadata": {},
      "outputs": [
        {
          "name": "stdout",
          "output_type": "stream",
          "text": [
            "CPU times: total: 15.6 ms\n",
            "Wall time: 25.9 ms\n"
          ]
        },
        {
          "data": {
            "text/html": [
              "<div>\n",
              "<style scoped>\n",
              "    .dataframe tbody tr th:only-of-type {\n",
              "        vertical-align: middle;\n",
              "    }\n",
              "\n",
              "    .dataframe tbody tr th {\n",
              "        vertical-align: top;\n",
              "    }\n",
              "\n",
              "    .dataframe thead th {\n",
              "        text-align: right;\n",
              "    }\n",
              "</style>\n",
              "<table border=\"1\" class=\"dataframe\">\n",
              "  <thead>\n",
              "    <tr style=\"text-align: right;\">\n",
              "      <th></th>\n",
              "      <th>CreditScore</th>\n",
              "      <th>Age</th>\n",
              "      <th>Tenure</th>\n",
              "      <th>Balance</th>\n",
              "      <th>NumOfProducts</th>\n",
              "      <th>HasCrCard</th>\n",
              "      <th>IsActiveMember</th>\n",
              "      <th>EstimatedSalary</th>\n",
              "      <th>Gender_codes</th>\n",
              "      <th>France</th>\n",
              "      <th>Germany</th>\n",
              "      <th>Spain</th>\n",
              "      <th>Balance_codes</th>\n",
              "    </tr>\n",
              "  </thead>\n",
              "  <tbody>\n",
              "    <tr>\n",
              "      <th>11499</th>\n",
              "      <td>0.536993</td>\n",
              "      <td>0.321429</td>\n",
              "      <td>0.2</td>\n",
              "      <td>0.387906</td>\n",
              "      <td>0.333333</td>\n",
              "      <td>0.0</td>\n",
              "      <td>1.0</td>\n",
              "      <td>0.582344</td>\n",
              "      <td>1</td>\n",
              "      <td>0.0</td>\n",
              "      <td>1.0</td>\n",
              "      <td>0.0</td>\n",
              "      <td>1</td>\n",
              "    </tr>\n",
              "    <tr>\n",
              "      <th>6475</th>\n",
              "      <td>0.408115</td>\n",
              "      <td>0.803571</td>\n",
              "      <td>0.5</td>\n",
              "      <td>0.440804</td>\n",
              "      <td>0.000000</td>\n",
              "      <td>1.0</td>\n",
              "      <td>0.0</td>\n",
              "      <td>0.884594</td>\n",
              "      <td>1</td>\n",
              "      <td>1.0</td>\n",
              "      <td>0.0</td>\n",
              "      <td>0.0</td>\n",
              "      <td>1</td>\n",
              "    </tr>\n",
              "    <tr>\n",
              "      <th>13167</th>\n",
              "      <td>0.610979</td>\n",
              "      <td>0.267857</td>\n",
              "      <td>0.6</td>\n",
              "      <td>0.599930</td>\n",
              "      <td>0.333333</td>\n",
              "      <td>1.0</td>\n",
              "      <td>0.0</td>\n",
              "      <td>0.739828</td>\n",
              "      <td>1</td>\n",
              "      <td>0.0</td>\n",
              "      <td>1.0</td>\n",
              "      <td>0.0</td>\n",
              "      <td>1</td>\n",
              "    </tr>\n",
              "    <tr>\n",
              "      <th>862</th>\n",
              "      <td>0.355609</td>\n",
              "      <td>0.500000</td>\n",
              "      <td>0.1</td>\n",
              "      <td>0.603414</td>\n",
              "      <td>0.000000</td>\n",
              "      <td>0.0</td>\n",
              "      <td>0.0</td>\n",
              "      <td>0.862275</td>\n",
              "      <td>1</td>\n",
              "      <td>1.0</td>\n",
              "      <td>0.0</td>\n",
              "      <td>0.0</td>\n",
              "      <td>1</td>\n",
              "    </tr>\n",
              "    <tr>\n",
              "      <th>5970</th>\n",
              "      <td>0.601432</td>\n",
              "      <td>0.303571</td>\n",
              "      <td>0.4</td>\n",
              "      <td>0.774393</td>\n",
              "      <td>0.000000</td>\n",
              "      <td>1.0</td>\n",
              "      <td>1.0</td>\n",
              "      <td>0.482479</td>\n",
              "      <td>0</td>\n",
              "      <td>0.0</td>\n",
              "      <td>0.0</td>\n",
              "      <td>1.0</td>\n",
              "      <td>1</td>\n",
              "    </tr>\n",
              "  </tbody>\n",
              "</table>\n",
              "</div>"
            ],
            "text/plain": [
              "       CreditScore       Age  Tenure   Balance  NumOfProducts  HasCrCard  \\\n",
              "11499     0.536993  0.321429     0.2  0.387906       0.333333        0.0   \n",
              "6475      0.408115  0.803571     0.5  0.440804       0.000000        1.0   \n",
              "13167     0.610979  0.267857     0.6  0.599930       0.333333        1.0   \n",
              "862       0.355609  0.500000     0.1  0.603414       0.000000        0.0   \n",
              "5970      0.601432  0.303571     0.4  0.774393       0.000000        1.0   \n",
              "\n",
              "       IsActiveMember  EstimatedSalary  Gender_codes  France  Germany  Spain  \\\n",
              "11499             1.0         0.582344             1     0.0      1.0    0.0   \n",
              "6475              0.0         0.884594             1     1.0      0.0    0.0   \n",
              "13167             0.0         0.739828             1     0.0      1.0    0.0   \n",
              "862               0.0         0.862275             1     1.0      0.0    0.0   \n",
              "5970              1.0         0.482479             0     0.0      0.0    1.0   \n",
              "\n",
              "       Balance_codes  \n",
              "11499              1  \n",
              "6475               1  \n",
              "13167              1  \n",
              "862                1  \n",
              "5970               1  "
            ]
          },
          "execution_count": 438,
          "metadata": {},
          "output_type": "execute_result"
        }
      ],
      "source": [
        "%%time\n",
        "\n",
        "X_train = pd.read_parquet('train_inputs.parquet')[model_col]\n",
        "X_val = pd.read_parquet('val_inputs.parquet')[model_col]\n",
        "\n",
        "X_val.head()\n",
        "#val_inputs = pd.read_parquet('val_inputs.parquet')"
      ]
    },
    {
      "cell_type": "code",
      "execution_count": 439,
      "metadata": {},
      "outputs": [],
      "source": [
        "#?LogisticRegression"
      ]
    },
    {
      "cell_type": "code",
      "execution_count": 440,
      "metadata": {},
      "outputs": [
        {
          "name": "stdout",
          "output_type": "stream",
          "text": [
            "[[-0.6364357700801029, 9.125936728585447, -0.16891297520698545, 0.041801447257104496, -3.0907620975350234, -0.1463987915128424, -1.1578004837421656, 0.21300215429527514, -0.8386097935742727, -0.8480572337569987, 0.6896634940785422, -0.9423111370444842, -0.4830707427035317]]\n",
            "[-1.10070488]\n"
          ]
        }
      ],
      "source": [
        "# Тренуємо модель\n",
        "weights = {0: 1, 1: 4}\n",
        "model = LogisticRegression(solver='liblinear', class_weight=weights)\n",
        "model.fit(X_train, train_targets)\n",
        "print(model.coef_.tolist())\n",
        "print(model.intercept_)"
      ]
    },
    {
      "cell_type": "code",
      "execution_count": 441,
      "metadata": {},
      "outputs": [],
      "source": [
        "train_preds = model.predict(X_train)\n",
        "val_preds = model.predict(X_val)\n",
        "train_probs = model.predict_proba(X_train)\n",
        "val_probs = model.predict_proba(X_val)\n",
        "#train_probs[:10], val_probs[:10]"
      ]
    },
    {
      "cell_type": "markdown",
      "metadata": {
        "id": "37s-m8G2pL4J"
      },
      "source": [
        "7. Виведіть Confusion matrix, ROC Curve, метрику AUROC та метрику F1 Score для порога класифікації 0.5 для побудованої моделі на тренувальних та валідаційних даних. Що можете сказати про якіст моделі? Вона хороша, погана, задовільна?"
      ]
    },
    {
      "cell_type": "code",
      "execution_count": 442,
      "metadata": {
        "id": "I02ENkyJ2jhn"
      },
      "outputs": [
        {
          "name": "stdout",
          "output_type": "stream",
          "text": [
            "0.8216 0.8181333333333334\n"
          ]
        },
        {
          "data": {
            "text/plain": [
              "Exited\n",
              "0.0    8984\n",
              "1.0    2266\n",
              "Name: count, dtype: int64"
            ]
          },
          "execution_count": 442,
          "metadata": {},
          "output_type": "execute_result"
        }
      ],
      "source": [
        "accuracy_train = accuracy_score(train_targets, train_preds)\n",
        "accuracy_val = accuracy_score(val_targets, val_preds)\n",
        "print(accuracy_train, accuracy_val)\n",
        "train_targets.value_counts()\n",
        "# Оцінка виглядає непогано, але вибірка незбалансована, значень класа 1 в 4 рази меньше, ніж значень класу 0. Не треба використовувати її в цьому випадку"
      ]
    },
    {
      "cell_type": "code",
      "execution_count": 443,
      "metadata": {},
      "outputs": [
        {
          "data": {
            "text/plain": [
              "array([[0.8254675 , 0.1745325 ],\n",
              "       [0.19373345, 0.80626655]])"
            ]
          },
          "execution_count": 443,
          "metadata": {},
          "output_type": "execute_result"
        }
      ],
      "source": [
        "# Виводимо Confusion matrix\n",
        "confusion_matrix(train_targets, train_preds, normalize='true')"
      ]
    },
    {
      "cell_type": "code",
      "execution_count": 444,
      "metadata": {},
      "outputs": [],
      "source": [
        "def predict_and_plot(inputs, targets, name=''):\n",
        "    preds = model.predict(inputs)\n",
        "\n",
        "    accuracy = accuracy_score(targets, preds)\n",
        "    print(\"Accuracy: {:.2f}%\".format(accuracy * 100))\n",
        "\n",
        "    cf = confusion_matrix(targets, preds, normalize='true')\n",
        "    plt.figure()\n",
        "    sns.heatmap(cf, annot=True)\n",
        "    plt.xlabel('Prediction')\n",
        "    plt.ylabel('Target')\n",
        "    plt.title('{} Confusion Matrix'.format(name));\n",
        "\n",
        "    return preds"
      ]
    },
    {
      "cell_type": "code",
      "execution_count": 445,
      "metadata": {},
      "outputs": [
        {
          "name": "stdout",
          "output_type": "stream",
          "text": [
            "Accuracy: 82.16%\n"
          ]
        },
        {
          "data": {
            "image/png": "[encoded data removed]",
            "text/plain": [
              "<Figure size 640x480 with 2 Axes>"
            ]
          },
          "metadata": {},
          "output_type": "display_data"
        }
      ],
      "source": [
        "# Візуалізуємо матрицю для обох наборів\n",
        "train_preds = predict_and_plot(X_train, train_targets, 'Training')"
      ]
    },
    {
      "cell_type": "code",
      "execution_count": 446,
      "metadata": {},
      "outputs": [
        {
          "name": "stdout",
          "output_type": "stream",
          "text": [
            "Accuracy: 81.81%\n"
          ]
        },
        {
          "data": {
            "image/png": "[encoded data removed]",
            "text/plain": [
              "<Figure size 640x480 with 2 Axes>"
            ]
          },
          "metadata": {},
          "output_type": "display_data"
        }
      ],
      "source": [
        "val_preds = predict_and_plot(X_val, val_targets, 'Validation')"
      ]
    },
    {
      "cell_type": "code",
      "execution_count": 447,
      "metadata": {},
      "outputs": [
        {
          "name": "stdout",
          "output_type": "stream",
          "text": [
            "F1-score Train:  0.65\n",
            "F1-score Validation:  0.65\n"
          ]
        }
      ],
      "source": [
        "f1_train = f1_score(train_targets, train_preds)\n",
        "f1_val = f1_score(val_targets, val_preds)\n",
        "print('F1-score Train: ', round(f1_train,2))\n",
        "print('F1-score Validation: ', round(f1_val,2))\n"
      ]
    },
    {
      "cell_type": "code",
      "execution_count": 448,
      "metadata": {},
      "outputs": [
        {
          "name": "stdout",
          "output_type": "stream",
          "text": [
            "AUROC for Training: 0.88\n"
          ]
        },
        {
          "data": {
            "image/png": "[encoded data removed]",
            "text/plain": [
              "<Figure size 640x480 with 1 Axes>"
            ]
          },
          "metadata": {},
          "output_type": "display_data"
        },
        {
          "name": "stdout",
          "output_type": "stream",
          "text": [
            "AUROC for Validation: 0.88\n"
          ]
        },
        {
          "data": {
            "image/png": "[encoded data removed]",
            "text/plain": [
              "<Figure size 640x480 with 1 Axes>"
            ]
          },
          "metadata": {},
          "output_type": "display_data"
        }
      ],
      "source": [
        "def compute_auroc_and_build_roc(inputs, targets, name=''):\n",
        "  # Predict probabilities\n",
        "  y_pred_proba = model.predict_proba(inputs)[:, 1]\n",
        "\n",
        "  # Compute ROC curve\n",
        "  fpr, tpr, thresholds = roc_curve(targets, y_pred_proba)\n",
        "\n",
        "    # Compute AUROC\n",
        "  roc_auc = auc(fpr, tpr)\n",
        "  print(f'AUROC for {name}: {roc_auc:.2f}')\n",
        "\n",
        "  # Plot the ROC curve\n",
        "  plt.figure()\n",
        "  plt.plot(fpr, tpr, color='darkorange', lw=2, label=f'ROC curve (area = {roc_auc:.2f})')\n",
        "  plt.plot([0, 1], [0, 1], color='navy', lw=2, linestyle='--')\n",
        "  plt.xlim([0.0, 1.0])\n",
        "  plt.ylim([0.0, 1.05])\n",
        "  plt.xlabel('False Positive Rate')\n",
        "  plt.ylabel('True Positive Rate')\n",
        "  plt.title(f'Receiver Operating Characteristic (ROC) Curve for {name}')\n",
        "  plt.legend(loc=\"lower right\")\n",
        "  plt.show()\n",
        "\n",
        "compute_auroc_and_build_roc(X_train, train_targets, 'Training')\n",
        "compute_auroc_and_build_roc(X_val, val_targets, 'Validation')"
      ]
    },
    {
      "cell_type": "markdown",
      "metadata": {},
      "source": [
        "**7. Відповідь**\n",
        "\n",
        "Згідно завдання задан рівень tresholda  - 0.5, тому оцінюємо модель по показнику F1. Треба сказати, що показники вибірки Validation дуже схожі на показники вибірки Train. F1 Validation - 0,64, Train - 0.63. Модель, здається непогана, але мало угадано TP та багато FN. Тобто мало разів передбачен позитивний результат взагалі. На це може сильно впливати несбаланованість класів у вибірці. З цім і треба працювати для покращення моделі."
      ]
    },
    {
      "cell_type": "markdown",
      "metadata": {
        "id": "3aLarTs4rWIJ"
      },
      "source": [
        "8. Створіть передбачення моделі, яка передбачає завжди мажоритарний клас (той, якого більше в тренувальних даних). Порахуйте Accuracy на тренувальних та валідаційних даних для цієї моделі і тої, що ми натренували в п.6. Зробіть заключення про якість нашої моделі: якість хороша, погана, задовільна?"
      ]
    },
    {
      "cell_type": "code",
      "execution_count": 449,
      "metadata": {
        "id": "0szMoWzd2k_Y"
      },
      "outputs": [
        {
          "name": "stdout",
          "output_type": "stream",
          "text": [
            "Exited\n",
            "0.0    8984\n",
            "1.0    2266\n",
            "Name: count, dtype: int64\n",
            "0.8216 0.7985777777777778\n",
            "0.8181333333333334 0.7904\n"
          ]
        }
      ],
      "source": [
        "# 8\n",
        "print(train_targets.value_counts())\n",
        "\n",
        "def all_no(inputs):\n",
        "    return np.full(len(inputs), 0)\n",
        "\n",
        "# модель з п.6\n",
        "accuracy_train = accuracy_score(train_targets, train_preds)\n",
        "accuracy_val = accuracy_score(val_targets, val_preds)\n",
        "# всі значення мажорітарного класу - 0\n",
        "accuracy_train_0 = accuracy_score(train_targets, all_no(X_train))\n",
        "accuracy_val_0 = accuracy_score(val_targets, all_no(X_val))\n",
        "\n",
        "print(accuracy_train, accuracy_train_0)\n",
        "print(accuracy_val, accuracy_val_0)"
      ]
    },
    {
      "cell_type": "markdown",
      "metadata": {},
      "source": [
        "Як і передбачалось, модель на даних зі значеннями тільки мадоритеного класу (0) не набагато гірше нашої. Тобто для якісного прогнозування треба шукати способи покращщеня моделі."
      ]
    },
    {
      "cell_type": "markdown",
      "metadata": {
        "id": "l_3QF-hAuFgA"
      },
      "source": [
        "9. Збережіть модель і інші обʼєкти, які ви хотіли б зберегти, з використанням бібліотеки joblib в файл `log_reg.joblib`. Потім завантажте модель з файлу в змінну `model_2` (цим ми тренуємось завантажувати модель з файлу на майбутнє)."
      ]
    },
    {
      "cell_type": "code",
      "execution_count": 450,
      "metadata": {
        "id": "FpeQ2qLm2oBU"
      },
      "outputs": [
        {
          "data": {
            "text/plain": [
              "['exited_clients.joblib']"
            ]
          },
          "execution_count": 450,
          "metadata": {},
          "output_type": "execute_result"
        }
      ],
      "source": [
        "exited_clients = {\n",
        "    'model': model,\n",
        "    'scaler': scaler,\n",
        "    'encoder': enc,\n",
        "    'input_cols': input_cols,\n",
        "    'target_col': target_col,\n",
        "    'numeric_cols': numeric_cols,\n",
        "    'categorical_cols': categorical_cols\n",
        "}\n",
        "joblib.dump(exited_clients, 'exited_clients.joblib')"
      ]
    },
    {
      "cell_type": "code",
      "execution_count": 451,
      "metadata": {},
      "outputs": [],
      "source": [
        "exited_clients2 = joblib.load('exited_clients.joblib')"
      ]
    },
    {
      "cell_type": "markdown",
      "metadata": {
        "id": "E_b1hrHUvQpb"
      },
      "source": [
        "10. Ознайомтесь з роботою наведеної функції `predict_raw_df`. Ця функція робить підготовку даних (масштабування числових колонок і кодування категоріальних) і виводить ймовірності належності до класу 1 для кожного рядка в наданому наборі.\n",
        "\n",
        "Доповніть або внесіть зміни у функцію з врахуванням вашого препроцесингу даних."
      ]
    },
    {
      "cell_type": "code",
      "execution_count": 452,
      "metadata": {
        "id": "n8bLQDa3viLC"
      },
      "outputs": [],
      "source": [
        "import warnings\n",
        "warnings.filterwarnings(\"ignore\")\n",
        "\n",
        "def predict_raw_df(scaler, encoder, numeric_cols, categorical_cols, input_df: pd.DataFrame):\n",
        "    input_df['Gender_codes'] = input_df.Gender.map(Gender_codes) # робимо числовою бінарною ознакою\n",
        "    input_df[encoder.categories_[0]] = encoder.transform(input_df[['Geography']]).toarray() # кодуємо Geography\n",
        "    input_df['Balance_codes'] = input_df.Balance.map(lambda x: 0 if x==0 else 1) # додаємо бінарну ознаку по залишкам на балансі\n",
        "    input_df[numeric_cols] = scaler.transform(input_df[numeric_cols])\n",
        "    #input_df[encoded_cols] = encoder.transform(input_df[categorical_cols])\n",
        "    X_input = input_df[model_col]\n",
        "    prob = model.predict_proba(X_input)[:,1]\n",
        "    return prob"
      ]
    },
    {
      "cell_type": "code",
      "execution_count": 453,
      "metadata": {},
      "outputs": [],
      "source": [
        "#model_col"
      ]
    },
    {
      "cell_type": "markdown",
      "metadata": {
        "id": "W8rRDFfExV40"
      },
      "source": [
        "11. Зчитайте дані з `test.csv` в змінну `test_raw_df`. Зробіть передбачення для кожного рядка даних з функцією з попереднього завдання і запишіть результат в нову колонку `Exited` в датафреймі `test_raw_df`."
      ]
    },
    {
      "cell_type": "code",
      "execution_count": 454,
      "metadata": {
        "id": "LyWEdGWx2u6d"
      },
      "outputs": [],
      "source": [
        "# 11\n",
        "test_csv = data_dir + '/test.csv'\n",
        "test_raw_df = pd.read_csv(test_csv)"
      ]
    },
    {
      "cell_type": "code",
      "execution_count": 455,
      "metadata": {},
      "outputs": [
        {
          "data": {
            "text/html": [
              "<div>\n",
              "<style scoped>\n",
              "    .dataframe tbody tr th:only-of-type {\n",
              "        vertical-align: middle;\n",
              "    }\n",
              "\n",
              "    .dataframe tbody tr th {\n",
              "        vertical-align: top;\n",
              "    }\n",
              "\n",
              "    .dataframe thead th {\n",
              "        text-align: right;\n",
              "    }\n",
              "</style>\n",
              "<table border=\"1\" class=\"dataframe\">\n",
              "  <thead>\n",
              "    <tr style=\"text-align: right;\">\n",
              "      <th></th>\n",
              "      <th>id</th>\n",
              "      <th>CustomerId</th>\n",
              "      <th>Surname</th>\n",
              "      <th>CreditScore</th>\n",
              "      <th>Geography</th>\n",
              "      <th>Gender</th>\n",
              "      <th>Age</th>\n",
              "      <th>Tenure</th>\n",
              "      <th>Balance</th>\n",
              "      <th>NumOfProducts</th>\n",
              "      <th>HasCrCard</th>\n",
              "      <th>IsActiveMember</th>\n",
              "      <th>EstimatedSalary</th>\n",
              "      <th>Gender_codes</th>\n",
              "      <th>France</th>\n",
              "      <th>Germany</th>\n",
              "      <th>Spain</th>\n",
              "      <th>Balance_codes</th>\n",
              "      <th>Exited</th>\n",
              "    </tr>\n",
              "  </thead>\n",
              "  <tbody>\n",
              "    <tr>\n",
              "      <th>0</th>\n",
              "      <td>15000</td>\n",
              "      <td>15594796.0</td>\n",
              "      <td>Chu</td>\n",
              "      <td>0.365155</td>\n",
              "      <td>Germany</td>\n",
              "      <td>Male</td>\n",
              "      <td>0.214286</td>\n",
              "      <td>0.2</td>\n",
              "      <td>0.696265</td>\n",
              "      <td>0.000000</td>\n",
              "      <td>1.0</td>\n",
              "      <td>1.0</td>\n",
              "      <td>0.789477</td>\n",
              "      <td>1</td>\n",
              "      <td>0.0</td>\n",
              "      <td>1.0</td>\n",
              "      <td>0.0</td>\n",
              "      <td>1</td>\n",
              "      <td>0.240438</td>\n",
              "    </tr>\n",
              "    <tr>\n",
              "      <th>1</th>\n",
              "      <td>15001</td>\n",
              "      <td>15642821.0</td>\n",
              "      <td>Mazzi</td>\n",
              "      <td>0.286396</td>\n",
              "      <td>France</td>\n",
              "      <td>Male</td>\n",
              "      <td>0.375000</td>\n",
              "      <td>0.5</td>\n",
              "      <td>0.000000</td>\n",
              "      <td>0.333333</td>\n",
              "      <td>1.0</td>\n",
              "      <td>1.0</td>\n",
              "      <td>0.337131</td>\n",
              "      <td>1</td>\n",
              "      <td>1.0</td>\n",
              "      <td>0.0</td>\n",
              "      <td>0.0</td>\n",
              "      <td>0</td>\n",
              "      <td>0.130730</td>\n",
              "    </tr>\n",
              "    <tr>\n",
              "      <th>2</th>\n",
              "      <td>15002</td>\n",
              "      <td>15716284.0</td>\n",
              "      <td>Onyekachi</td>\n",
              "      <td>0.656325</td>\n",
              "      <td>France</td>\n",
              "      <td>Male</td>\n",
              "      <td>0.446429</td>\n",
              "      <td>0.8</td>\n",
              "      <td>0.000000</td>\n",
              "      <td>0.333333</td>\n",
              "      <td>1.0</td>\n",
              "      <td>0.0</td>\n",
              "      <td>0.783859</td>\n",
              "      <td>1</td>\n",
              "      <td>1.0</td>\n",
              "      <td>0.0</td>\n",
              "      <td>0.0</td>\n",
              "      <td>0</td>\n",
              "      <td>0.431479</td>\n",
              "    </tr>\n",
              "    <tr>\n",
              "      <th>3</th>\n",
              "      <td>15003</td>\n",
              "      <td>15785078.0</td>\n",
              "      <td>Martin</td>\n",
              "      <td>0.682578</td>\n",
              "      <td>Spain</td>\n",
              "      <td>Male</td>\n",
              "      <td>0.482143</td>\n",
              "      <td>0.3</td>\n",
              "      <td>0.000000</td>\n",
              "      <td>0.000000</td>\n",
              "      <td>1.0</td>\n",
              "      <td>1.0</td>\n",
              "      <td>0.834571</td>\n",
              "      <td>1</td>\n",
              "      <td>0.0</td>\n",
              "      <td>0.0</td>\n",
              "      <td>1.0</td>\n",
              "      <td>0</td>\n",
              "      <td>0.476731</td>\n",
              "    </tr>\n",
              "    <tr>\n",
              "      <th>4</th>\n",
              "      <td>15004</td>\n",
              "      <td>15662955.0</td>\n",
              "      <td>Kenechukwu</td>\n",
              "      <td>0.384248</td>\n",
              "      <td>Spain</td>\n",
              "      <td>Male</td>\n",
              "      <td>0.446429</td>\n",
              "      <td>0.8</td>\n",
              "      <td>0.000000</td>\n",
              "      <td>0.333333</td>\n",
              "      <td>1.0</td>\n",
              "      <td>1.0</td>\n",
              "      <td>0.718421</td>\n",
              "      <td>1</td>\n",
              "      <td>0.0</td>\n",
              "      <td>0.0</td>\n",
              "      <td>1.0</td>\n",
              "      <td>0</td>\n",
              "      <td>0.202837</td>\n",
              "    </tr>\n",
              "    <tr>\n",
              "      <th>...</th>\n",
              "      <td>...</td>\n",
              "      <td>...</td>\n",
              "      <td>...</td>\n",
              "      <td>...</td>\n",
              "      <td>...</td>\n",
              "      <td>...</td>\n",
              "      <td>...</td>\n",
              "      <td>...</td>\n",
              "      <td>...</td>\n",
              "      <td>...</td>\n",
              "      <td>...</td>\n",
              "      <td>...</td>\n",
              "      <td>...</td>\n",
              "      <td>...</td>\n",
              "      <td>...</td>\n",
              "      <td>...</td>\n",
              "      <td>...</td>\n",
              "      <td>...</td>\n",
              "      <td>...</td>\n",
              "    </tr>\n",
              "    <tr>\n",
              "      <th>9995</th>\n",
              "      <td>24995</td>\n",
              "      <td>15642997.0</td>\n",
              "      <td>Chukwumaobim</td>\n",
              "      <td>0.496420</td>\n",
              "      <td>Spain</td>\n",
              "      <td>Male</td>\n",
              "      <td>0.357143</td>\n",
              "      <td>1.0</td>\n",
              "      <td>0.000000</td>\n",
              "      <td>0.333333</td>\n",
              "      <td>1.0</td>\n",
              "      <td>1.0</td>\n",
              "      <td>0.248154</td>\n",
              "      <td>1</td>\n",
              "      <td>0.0</td>\n",
              "      <td>0.0</td>\n",
              "      <td>1.0</td>\n",
              "      <td>0</td>\n",
              "      <td>0.084030</td>\n",
              "    </tr>\n",
              "    <tr>\n",
              "      <th>9996</th>\n",
              "      <td>24996</td>\n",
              "      <td>15739271.0</td>\n",
              "      <td>Clements</td>\n",
              "      <td>0.589499</td>\n",
              "      <td>Spain</td>\n",
              "      <td>Male</td>\n",
              "      <td>0.375000</td>\n",
              "      <td>0.9</td>\n",
              "      <td>0.000000</td>\n",
              "      <td>0.333333</td>\n",
              "      <td>1.0</td>\n",
              "      <td>1.0</td>\n",
              "      <td>0.712578</td>\n",
              "      <td>1</td>\n",
              "      <td>0.0</td>\n",
              "      <td>0.0</td>\n",
              "      <td>1.0</td>\n",
              "      <td>0</td>\n",
              "      <td>0.102544</td>\n",
              "    </tr>\n",
              "    <tr>\n",
              "      <th>9997</th>\n",
              "      <td>24997</td>\n",
              "      <td>15756743.0</td>\n",
              "      <td>Chidiebere</td>\n",
              "      <td>0.818616</td>\n",
              "      <td>France</td>\n",
              "      <td>Male</td>\n",
              "      <td>0.214286</td>\n",
              "      <td>0.9</td>\n",
              "      <td>0.000000</td>\n",
              "      <td>0.333333</td>\n",
              "      <td>1.0</td>\n",
              "      <td>0.0</td>\n",
              "      <td>0.024253</td>\n",
              "      <td>1</td>\n",
              "      <td>1.0</td>\n",
              "      <td>0.0</td>\n",
              "      <td>0.0</td>\n",
              "      <td>0</td>\n",
              "      <td>0.064385</td>\n",
              "    </tr>\n",
              "    <tr>\n",
              "      <th>9998</th>\n",
              "      <td>24998</td>\n",
              "      <td>15680167.0</td>\n",
              "      <td>Yermakova</td>\n",
              "      <td>0.391408</td>\n",
              "      <td>France</td>\n",
              "      <td>Male</td>\n",
              "      <td>0.357143</td>\n",
              "      <td>0.6</td>\n",
              "      <td>0.690650</td>\n",
              "      <td>0.000000</td>\n",
              "      <td>1.0</td>\n",
              "      <td>0.0</td>\n",
              "      <td>0.632348</td>\n",
              "      <td>1</td>\n",
              "      <td>1.0</td>\n",
              "      <td>0.0</td>\n",
              "      <td>0.0</td>\n",
              "      <td>1</td>\n",
              "      <td>0.414724</td>\n",
              "    </tr>\n",
              "    <tr>\n",
              "      <th>9999</th>\n",
              "      <td>24999</td>\n",
              "      <td>15662901.0</td>\n",
              "      <td>Ting</td>\n",
              "      <td>0.546539</td>\n",
              "      <td>France</td>\n",
              "      <td>Male</td>\n",
              "      <td>0.214286</td>\n",
              "      <td>0.3</td>\n",
              "      <td>0.000000</td>\n",
              "      <td>0.000000</td>\n",
              "      <td>1.0</td>\n",
              "      <td>0.0</td>\n",
              "      <td>0.528917</td>\n",
              "      <td>1</td>\n",
              "      <td>1.0</td>\n",
              "      <td>0.0</td>\n",
              "      <td>0.0</td>\n",
              "      <td>0</td>\n",
              "      <td>0.220275</td>\n",
              "    </tr>\n",
              "  </tbody>\n",
              "</table>\n",
              "<p>10000 rows × 19 columns</p>\n",
              "</div>"
            ],
            "text/plain": [
              "         id  CustomerId       Surname  CreditScore Geography Gender       Age  \\\n",
              "0     15000  15594796.0           Chu     0.365155   Germany   Male  0.214286   \n",
              "1     15001  15642821.0         Mazzi     0.286396    France   Male  0.375000   \n",
              "2     15002  15716284.0     Onyekachi     0.656325    France   Male  0.446429   \n",
              "3     15003  15785078.0        Martin     0.682578     Spain   Male  0.482143   \n",
              "4     15004  15662955.0    Kenechukwu     0.384248     Spain   Male  0.446429   \n",
              "...     ...         ...           ...          ...       ...    ...       ...   \n",
              "9995  24995  15642997.0  Chukwumaobim     0.496420     Spain   Male  0.357143   \n",
              "9996  24996  15739271.0      Clements     0.589499     Spain   Male  0.375000   \n",
              "9997  24997  15756743.0    Chidiebere     0.818616    France   Male  0.214286   \n",
              "9998  24998  15680167.0     Yermakova     0.391408    France   Male  0.357143   \n",
              "9999  24999  15662901.0          Ting     0.546539    France   Male  0.214286   \n",
              "\n",
              "      Tenure   Balance  NumOfProducts  HasCrCard  IsActiveMember  \\\n",
              "0        0.2  0.696265       0.000000        1.0             1.0   \n",
              "1        0.5  0.000000       0.333333        1.0             1.0   \n",
              "2        0.8  0.000000       0.333333        1.0             0.0   \n",
              "3        0.3  0.000000       0.000000        1.0             1.0   \n",
              "4        0.8  0.000000       0.333333        1.0             1.0   \n",
              "...      ...       ...            ...        ...             ...   \n",
              "9995     1.0  0.000000       0.333333        1.0             1.0   \n",
              "9996     0.9  0.000000       0.333333        1.0             1.0   \n",
              "9997     0.9  0.000000       0.333333        1.0             0.0   \n",
              "9998     0.6  0.690650       0.000000        1.0             0.0   \n",
              "9999     0.3  0.000000       0.000000        1.0             0.0   \n",
              "\n",
              "      EstimatedSalary  Gender_codes  France  Germany  Spain  Balance_codes  \\\n",
              "0            0.789477             1     0.0      1.0    0.0              1   \n",
              "1            0.337131             1     1.0      0.0    0.0              0   \n",
              "2            0.783859             1     1.0      0.0    0.0              0   \n",
              "3            0.834571             1     0.0      0.0    1.0              0   \n",
              "4            0.718421             1     0.0      0.0    1.0              0   \n",
              "...               ...           ...     ...      ...    ...            ...   \n",
              "9995         0.248154             1     0.0      0.0    1.0              0   \n",
              "9996         0.712578             1     0.0      0.0    1.0              0   \n",
              "9997         0.024253             1     1.0      0.0    0.0              0   \n",
              "9998         0.632348             1     1.0      0.0    0.0              1   \n",
              "9999         0.528917             1     1.0      0.0    0.0              0   \n",
              "\n",
              "        Exited  \n",
              "0     0.240438  \n",
              "1     0.130730  \n",
              "2     0.431479  \n",
              "3     0.476731  \n",
              "4     0.202837  \n",
              "...        ...  \n",
              "9995  0.084030  \n",
              "9996  0.102544  \n",
              "9997  0.064385  \n",
              "9998  0.414724  \n",
              "9999  0.220275  \n",
              "\n",
              "[10000 rows x 19 columns]"
            ]
          },
          "execution_count": 455,
          "metadata": {},
          "output_type": "execute_result"
        }
      ],
      "source": [
        "test_raw_df['Exited'] = predict_raw_df(scaler, enc, numeric_cols, categorical_cols, test_raw_df)\n",
        "test_raw_df"
      ]
    },
    {
      "cell_type": "markdown",
      "metadata": {
        "id": "ZHZciHxEx7IZ"
      },
      "source": [
        "12. Зчитайте файл 'sample_submission.csv' і зповніть колонку `Exited` передбаченими вашою моделлю значеннями для кожного відповідного `id` клієнта.\n",
        "Виведіть перші 5 рядків фінального датасету, збережіть результат в файл `submission_log_reg.csv` (УВАГА! не запишіть випадково ще індекси рядків!) і здайте цей файл на Kaggle зі свого профіля натиснувши `Submit Prediction`."
      ]
    },
    {
      "cell_type": "code",
      "execution_count": 456,
      "metadata": {
        "id": "HjkKnrll2wNA"
      },
      "outputs": [],
      "source": [
        "sample_submission_csv = data_dir + '/sample_submission.csv'\n",
        "sample_submission = pd.read_csv(sample_submission_csv)"
      ]
    },
    {
      "cell_type": "code",
      "execution_count": 457,
      "metadata": {},
      "outputs": [
        {
          "name": "stdout",
          "output_type": "stream",
          "text": [
            "<class 'pandas.core.frame.DataFrame'>\n",
            "RangeIndex: 10000 entries, 0 to 9999\n",
            "Data columns (total 2 columns):\n",
            " #   Column  Non-Null Count  Dtype  \n",
            "---  ------  --------------  -----  \n",
            " 0   id      10000 non-null  int64  \n",
            " 1   Exited  10000 non-null  float64\n",
            "dtypes: float64(1), int64(1)\n",
            "memory usage: 156.4 KB\n"
          ]
        }
      ],
      "source": [
        "sample_submission.info()"
      ]
    },
    {
      "cell_type": "code",
      "execution_count": 458,
      "metadata": {},
      "outputs": [
        {
          "data": {
            "text/html": [
              "<div>\n",
              "<style scoped>\n",
              "    .dataframe tbody tr th:only-of-type {\n",
              "        vertical-align: middle;\n",
              "    }\n",
              "\n",
              "    .dataframe tbody tr th {\n",
              "        vertical-align: top;\n",
              "    }\n",
              "\n",
              "    .dataframe thead th {\n",
              "        text-align: right;\n",
              "    }\n",
              "</style>\n",
              "<table border=\"1\" class=\"dataframe\">\n",
              "  <thead>\n",
              "    <tr style=\"text-align: right;\">\n",
              "      <th></th>\n",
              "      <th>id</th>\n",
              "      <th>Exited</th>\n",
              "    </tr>\n",
              "  </thead>\n",
              "  <tbody>\n",
              "    <tr>\n",
              "      <th>0</th>\n",
              "      <td>15000</td>\n",
              "      <td>0.240438</td>\n",
              "    </tr>\n",
              "    <tr>\n",
              "      <th>1</th>\n",
              "      <td>15001</td>\n",
              "      <td>0.130730</td>\n",
              "    </tr>\n",
              "    <tr>\n",
              "      <th>2</th>\n",
              "      <td>15002</td>\n",
              "      <td>0.431479</td>\n",
              "    </tr>\n",
              "    <tr>\n",
              "      <th>3</th>\n",
              "      <td>15003</td>\n",
              "      <td>0.476731</td>\n",
              "    </tr>\n",
              "    <tr>\n",
              "      <th>4</th>\n",
              "      <td>15004</td>\n",
              "      <td>0.202837</td>\n",
              "    </tr>\n",
              "  </tbody>\n",
              "</table>\n",
              "</div>"
            ],
            "text/plain": [
              "      id    Exited\n",
              "0  15000  0.240438\n",
              "1  15001  0.130730\n",
              "2  15002  0.431479\n",
              "3  15003  0.476731\n",
              "4  15004  0.202837"
            ]
          },
          "execution_count": 458,
          "metadata": {},
          "output_type": "execute_result"
        }
      ],
      "source": [
        "sample_submission['Exited'] = sample_submission['id'].map(test_raw_df.set_index('id')['Exited'])\n",
        "sample_submission.head(5)\n"
      ]
    },
    {
      "cell_type": "code",
      "execution_count": 459,
      "metadata": {},
      "outputs": [],
      "source": [
        "sample_submission.to_csv('D:/DS_UA/2_2 Logistic regression/HW/submission_log_reg.csv', index=False)"
      ]
    }
  ],
  "metadata": {
    "colab": {
      "provenance": []
    },
    "kernelspec": {
      "display_name": "ds_ua.venv (3.12.10)",
      "language": "python",
      "name": "python3"
    },
    "language_info": {
      "codemirror_mode": {
        "name": "ipython",
        "version": 3
      },
      "file_extension": ".py",
      "mimetype": "text/x-python",
      "name": "python",
      "nbconvert_exporter": "python",
      "pygments_lexer": "ipython3",
      "version": "3.12.10"
    }
  },
  "nbformat": 4,
  "nbformat_minor": 0
}
