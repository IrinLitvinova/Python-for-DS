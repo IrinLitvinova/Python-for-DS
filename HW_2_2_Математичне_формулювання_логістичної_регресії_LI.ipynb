{
  "cells": [
    {
      "cell_type": "markdown",
      "metadata": {
        "id": "KxRmdyv5CIZe"
      },
      "source": [
        "В цьому домашньому завданні ми реалізуємо логістичну регресію на `numpy`.\n",
        "Ці завдання допоможуть вам ґрунтовно засвоїти основні концепції логістичної регресії та реалізувати їх на практиці 🔥\n",
        "\n",
        "#### Завдання 1: Реалізація функції сигмоїди\n",
        "1. З використанням `numpy` напишіть функцію `sigmoid(z)` для обчислення значення сигмоїди згідно з формулою:\n",
        "   $$\n",
        "   \\sigma(z) = \\frac{1}{1 + e^{-z}}\n",
        "   $$\n",
        "2. Використовуючи цю функцію, обчисліть значення сигмоїди для наступних даних: $ z = [-2, -1, 0, 1, 2] $. Виведіть результат обчислень.\n"
      ]
    },
    {
      "cell_type": "markdown",
      "metadata": {},
      "source": [
        "**Відповідь 1**"
      ]
    },
    {
      "cell_type": "code",
      "execution_count": 51,
      "metadata": {
        "id": "v9ilfXulL2wP"
      },
      "outputs": [
        {
          "name": "stdout",
          "output_type": "stream",
          "text": [
            "Результати обчислень:  [0.11920292 0.26894142 0.5        0.73105858 0.88079708]\n"
          ]
        }
      ],
      "source": [
        "import numpy as np\n",
        "\n",
        "# 1\n",
        "def sigmoid(z):\n",
        "    sigma = 1 / (1 + np.exp(-z))\n",
        "    return sigma\n",
        "\n",
        "# 2\n",
        "z = np.array([-2, -1, 0, 1, 2])\n",
        "print('Результати обчислень: ', sigmoid(z))"
      ]
    },
    {
      "cell_type": "markdown",
      "metadata": {
        "id": "LVd_jCGNCR1F"
      },
      "source": [
        "\n",
        "\n",
        "#### Завдання 2: Реалізація функції гіпотези для логістичної регресії\n",
        "1. Напишіть функцію `hypothesis(theta, X)`, яка обчислює гіпотезу для логістичної регресії, використовуючи функцію сигмоїди. Формула гіпотези:\n",
        "   $$\n",
        "   h_\\theta(x) = \\sigma(\\theta^T x) = \\frac{1}{1 + e^{-\\theta^T x}}\n",
        "   $$\n",
        "2. Використайте функцію `hypothesis` для обчислення значень гіпотези для наступних даних:\n",
        "   \n",
        "   $\\theta = [0.5, -0.5]$\n",
        "   \n",
        "   $X = \\begin{bmatrix} 1 & 2 \\\\ 1 & -1 \\\\ 1 & 0 \\\\ 1 & 1 \\end{bmatrix}$\n",
        "\n",
        "  Виведіть результат обчислень.\n"
      ]
    },
    {
      "cell_type": "markdown",
      "metadata": {},
      "source": [
        "**Відповідь 2**"
      ]
    },
    {
      "cell_type": "code",
      "execution_count": 34,
      "metadata": {
        "id": "dKDHv-YtL3TA"
      },
      "outputs": [],
      "source": [
        "def hypotesis(theta, X):\n",
        "    z = np.dot(X, theta.T)\n",
        "    result = sigmoid(z)\n",
        "    return result"
      ]
    },
    {
      "cell_type": "code",
      "execution_count": 35,
      "metadata": {},
      "outputs": [
        {
          "name": "stdout",
          "output_type": "stream",
          "text": [
            "[[ 1  2]\n",
            " [ 1 -1]\n",
            " [ 1  0]\n",
            " [ 1  1]] (4, 2)\n",
            "[[ 0.5 -0.5]] (2, 1) \n",
            "\n",
            "Результат обчислень значень гіпотези:\n",
            " [[0.37754067]\n",
            " [0.73105858]\n",
            " [0.62245933]\n",
            " [0.5       ]]\n"
          ]
        }
      ],
      "source": [
        "theta = np.array([[0.5, -0.5]])\n",
        "X = np.array([[1, 2], [1, -1], [1, 0], [1, 1]])\n",
        "h = hypotesis(theta, X)\n",
        "print(X, X.shape)\n",
        "print(theta, theta.T.shape, '\\n')\n",
        "print('Результат обчислень значень гіпотези:\\n', h)"
      ]
    },
    {
      "cell_type": "markdown",
      "metadata": {
        "id": "MWASH4Z4ClTo"
      },
      "source": [
        "#### Завдання 3: Реалізація функції для підрахунку градієнтів фукнції втрат\n",
        "1. Напишіть функцію `compute_gradient(theta, X, y)`, яка обчислює градієнти функції втрат для логістичної регресії. Формула для обчислення градієнта:\n",
        "   $$\n",
        "   \\frac{\\partial L(\\theta)}{\\partial \\theta_j} = \\frac{1}{m} \\sum_{i=1}^{m} \\left[ (h_\\theta(x^{(i)}) - y^{(i)}) x_j^{(i)} \\right]\n",
        "   $$\n",
        "2. Використайте функцію `compute_gradient` для обчислення градієнтів для наступних даних:\n",
        "\n",
        "  $\\theta = [0.5, -0.5]$\n",
        "\n",
        "  $X = \\begin{bmatrix} 1 & 2 \\\\ 1 & -1 \\\\ 1 & 0 \\\\ 1 & 1 \\end{bmatrix}$\n",
        "\n",
        "  $y = [1, 0, 1, 0]$\n",
        "\n",
        "  Виведіть результат обчислень."
      ]
    },
    {
      "cell_type": "markdown",
      "metadata": {},
      "source": [
        "**Відповідь 3**"
      ]
    },
    {
      "cell_type": "code",
      "execution_count": 45,
      "metadata": {},
      "outputs": [
        {
          "name": "stdout",
          "output_type": "stream",
          "text": [
            "Результат обчислення градієнтів:  [ 0.05776464 -0.36899431]\n"
          ]
        }
      ],
      "source": [
        "theta = np.array([[0.5, -0.5]])\n",
        "X = np.array([[1, 2], [1, -1], [1, 0], [1, 1]])\n",
        "y = np.array([1, 0, 1, 0])\n",
        "m = X.shape[0]\n",
        "\n",
        "\n",
        "def compute_gradient(theta, X, y):\n",
        "    h = hypotesis(theta, X)\n",
        "    gradient = np.array([])\n",
        "    for j  in range(theta.shape[1]):\n",
        "        sum_err = 0.00\n",
        "        for i in range(m):\n",
        "            err = (h[i] - y[i]) * X[i, j]\n",
        "            sum_err += err\n",
        "            #print(err, sum_err)\n",
        "        gradient_init = 1 / m * sum_err\n",
        "        gradient = np.append(gradient, gradient_init)\n",
        "    print('Результат обчислення градієнтів: ', gradient)\n",
        "    return\n",
        "\n",
        "compute_gradient(theta, X, y)\n"
      ]
    },
    {
      "cell_type": "markdown",
      "metadata": {
        "id": "nOtJEtdnC1K9"
      },
      "source": [
        "\n",
        "#### Завдання 4: Реалізація повного батч градієнтного спуску\n",
        "\n",
        "**Задача:**\n",
        "1. \n",
        "\n",
        "   - Гіпотеза: $ h_\\theta(x) = \\sigma(\\theta^T x) $\n",
        "   - Оновлення параметрів: $ \\theta_j := \\theta_j - \\alpha \\frac{\\partial L(\\theta)}{\\partial \\theta_j} $\n",
        "2. Використайте функцію `full_batch_gradient_descent` для обчислення параметрів моделі на наступних даних:\n",
        "\n",
        "  $X = \\begin{bmatrix} 1 & 2 \\\\ 1 & -1 \\\\ 1 & 0 \\\\ 1 & 1 \\end{bmatrix}$\n",
        "\n",
        "  $y = [1, 0, 1, 0]$\n",
        "\n",
        "  Увага! Матриця $X$ вже має стовпець одиниць і передбачається, що це. - стовпець для intercept - параметра зсуву.\n",
        "\n",
        "  Виведіть результат обчислень.\n"
      ]
    },
    {
      "cell_type": "markdown",
      "metadata": {},
      "source": [
        "**Відповідь 4**"
      ]
    },
    {
      "cell_type": "code",
      "execution_count": 50,
      "metadata": {
        "id": "fHtUOTxXL4Yy"
      },
      "outputs": [
        {
          "data": {
            "text/plain": [
              "(np.float64(0.20000004294005663), np.float64(0.39999993052152893))"
            ]
          },
          "execution_count": 50,
          "metadata": {},
          "output_type": "execute_result"
        }
      ],
      "source": [
        "X = np.array([[1, 2], [1, -1], [1, 0], [1, 1]])\n",
        "y = np.array([1, 0, 1, 0])\n",
        "\n",
        "def full_batch_gradient_descent(X, y, lr=0.1, epochs=100):\n",
        "    m, b = 0.0, 0.0  # Початкові параметри\n",
        "    n = len(y)\n",
        "    errors = []\n",
        "    for _ in range(epochs):\n",
        "        y_pred = m * X[:, 1] + b\n",
        "        error = y_pred - y\n",
        "        m_gradient = (2/n) * np.dot(error, X[:, 1])\n",
        "        b_gradient = (2/n) * np.sum(error)\n",
        "        # print(m_gradient, b_gradient)\n",
        "        m -= lr * m_gradient\n",
        "        b -= lr * b_gradient\n",
        "        errors.append(np.sum(np.square(error)))\n",
        "    return m, b, errors    \n",
        "\n",
        "m, b, errors = full_batch_gradient_descent(X, y, lr=0.1, epochs=100)\n",
        "m, b\n"
      ]
    },
    {
      "cell_type": "markdown",
      "metadata": {
        "id": "E4iZV55cE5f3"
      },
      "source": [
        "#### Завдання 5. Обчислення точності моделі\n",
        "\n",
        "1. Напишіть функцію `predict_proba(theta, X)`, яка використовує знайдені параметри $\\theta$ для обчислення ймовірностей належності поточного прикладу з даних до класу $y=1$ на основі значень $\\sigma(\\theta^T x)$.\n",
        "\n",
        "2. Напишіть функцію `predict(theta, X, threshold=0.5)`, яка обчислює клас з передбаченої імовірності належності екземпляра до класу 1 з порогом 0.5. Тобто якщо ймовірність менше 0.5, то передбачаємо клас 0, інакше клас 1.\n",
        "\n",
        "3. Напишіть функцію `accuracy(y_true, y_pred)`, яка обчислює точність моделі, визначивши частку правильно передбачених класів.\n",
        "\n",
        "  Формула метрики Accuracy:\n",
        "  $$\n",
        "  \\text{Accuracy} = \\frac{\\sum_{i=1}^{m} I(\\hat{{y}^{(i)}} = y^{(i)})}{m}\n",
        "  $$\n",
        "\n",
        "  де $\\hat{{y}^{(i)}}$ - передбачене значення класу, $I$ - індикаторна функція (яка дорівнює 1, якщо умова виконується, і 0 - якщо ні), $m$ - кількість прикладів.\n",
        "\n",
        "4. Обчисліть з використанням даних в завданні 4 $X$, $y$ та обчислених коефіцієнтах $\\theta$ та виведіть на екран:\n",
        "  - передбачені моделлю імовірності належності кожного з екземплярів в матриці `X` до класу 1\n",
        "  - класи кожного екземпляра з матриці `X`\n",
        "  - точність моделі."
      ]
    },
    {
      "cell_type": "markdown",
      "metadata": {},
      "source": [
        "**Відповідь 5**"
      ]
    },
    {
      "cell_type": "code",
      "execution_count": 140,
      "metadata": {
        "id": "85ZZfPtjrsai"
      },
      "outputs": [
        {
          "data": {
            "text/plain": [
              "array([[0.73105856],\n",
              "       [0.45016603],\n",
              "       [0.54983401],\n",
              "       [0.6456563 ]])"
            ]
          },
          "execution_count": 140,
          "metadata": {},
          "output_type": "execute_result"
        }
      ],
      "source": [
        "# 5.1\n",
        "def predict_proba(theta, X):\n",
        "    z = X @ theta.T\n",
        "    P = 1 / (1 + np.exp(-z))\n",
        "    return P\n",
        "\n",
        "X = np.array([[1, 2], [1, -1], [1, 0], [1, 1]])\n",
        "theta = np.array([[m,b]])\n",
        "predict_proba(theta, X)"
      ]
    },
    {
      "cell_type": "code",
      "execution_count": null,
      "metadata": {},
      "outputs": [
        {
          "data": {
            "text/plain": [
              "array([1, 0, 1, 1])"
            ]
          },
          "execution_count": 206,
          "metadata": {},
          "output_type": "execute_result"
        }
      ],
      "source": [
        "# 5.2\n",
        "\n",
        "\n",
        "def predict(theta, X, threshold=0.5):\n",
        "    z = X @ theta.T\n",
        "    P = 1 / (1 + np.exp(-z))\n",
        "    y_pred = np.array([], dtype=np.int8)\n",
        "    for i in range(P.shape[0]):\n",
        "        if P[i] >= threshold:\n",
        "            y_pred = np.append(y_pred, 1)\n",
        "        else:\n",
        "            y_pred = np.append(y_pred, 0)\n",
        "    #print(y_pred)\n",
        "    return y_pred\n",
        "\n",
        "predict(theta, X, 0.5)\n"
      ]
    },
    {
      "cell_type": "code",
      "execution_count": 212,
      "metadata": {},
      "outputs": [
        {
          "data": {
            "text/plain": [
              "0.75"
            ]
          },
          "execution_count": 212,
          "metadata": {},
          "output_type": "execute_result"
        }
      ],
      "source": [
        "# 5.3\n",
        "def accuracy(y_true, y_pred):\n",
        "    sum = 0\n",
        "    y_pred = predict(theta, X, threshold=0.5)\n",
        "    for i in range(len(y_pred)):\n",
        "        if y_pred[i] - y_true[i] == 0:\n",
        "            sum += 1\n",
        "    accuracy = sum / len(y_pred)\n",
        "    return accuracy\n",
        "\n",
        "accuracy(y, y_pred)"
      ]
    },
    {
      "cell_type": "code",
      "execution_count": 221,
      "metadata": {},
      "outputs": [
        {
          "name": "stdout",
          "output_type": "stream",
          "text": [
            "Розраховані моделлю імовірності належості єлемемнтів матриці Х до класу 1:\n",
            " [[0.73105856]\n",
            " [0.45016603]\n",
            " [0.54983401]\n",
            " [0.6456563 ]]\n",
            "Класи кожного елементу матриці Х:\n",
            " [1 0 1 1]\n",
            "Точність моделі складає 0.75\n"
          ]
        }
      ],
      "source": [
        "# 5.4\n",
        "'''Обчисліть з використанням даних в завданні 4 $X$, $y$ та обчислених коефіцієнтах $\\theta$ та виведіть на екран:\n",
        "  - передбачені моделлю імовірності належності кожного з екземплярів в матриці `X` до класу 1\n",
        "  - класи кожного екземпляра з матриці `X`\n",
        "  - точність моделі.'''\n",
        "\n",
        "print(f'Розраховані моделлю імовірності належості єлемемнтів матриці Х до класу 1:\\n {predict_proba(theta, X)}')\n",
        "print(f'Класи кожного елементу матриці Х:\\n {predict(theta, X, 0.5)}')\n",
        "print(f'Точність моделі складає {accuracy(y, y_pred)}')"
      ]
    }
  ],
  "metadata": {
    "colab": {
      "provenance": []
    },
    "kernelspec": {
      "display_name": "Python 3",
      "name": "python3"
    },
    "language_info": {
      "codemirror_mode": {
        "name": "ipython",
        "version": 3
      },
      "file_extension": ".py",
      "mimetype": "text/x-python",
      "name": "python",
      "nbconvert_exporter": "python",
      "pygments_lexer": "ipython3",
      "version": "3.13.3"
    }
  },
  "nbformat": 4,
  "nbformat_minor": 0
}
