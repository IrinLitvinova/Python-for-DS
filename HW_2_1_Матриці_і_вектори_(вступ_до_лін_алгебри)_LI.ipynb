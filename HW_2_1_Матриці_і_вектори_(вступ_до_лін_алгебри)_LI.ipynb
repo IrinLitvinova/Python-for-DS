{
  "cells": [
    {
      "cell_type": "markdown",
      "metadata": {
        "id": "efug1V4CM0lT"
      },
      "source": [
        "### Завдання 1: Створення матриць та векторів\n",
        "1. Створіть `numpy` вектор `vector` розмірністю 10 з випадковими дійсними значеннями в діапазоні від 0 до 1. Можна скористатись двома альтернативними варіантами:\n",
        "  1. Генерація випадкових чисел з модулем [`random.uniform`](https://docs.python.org/3/library/random.html).\n",
        "  2. Створення вектора з допомогою метода `numpy` [np.random.rand](https://numpy.org/doc/stable/reference/random/generated/numpy.random.rand.html)\n",
        "\n",
        "2. Створіть матрицю `matrix` типу `numpy.array` розмірності 3x3 з наступними значеннями\n",
        "\n",
        "  $$\n",
        "  matrix = \\begin{bmatrix}\n",
        "  11 & 14 & 17 \\\\\n",
        "  20 & 23 & 26 \\\\\n",
        "  29 & 32 & 35\n",
        "  \\end{bmatrix}\n",
        "  $$\n",
        "\n",
        "  будь-яким відомими Вам способом.\n",
        "\n",
        "Виведіть на екран вектор і матрицю, а також їх розміри.\n"
      ]
    },
    {
      "cell_type": "markdown",
      "metadata": {},
      "source": [
        "### Відповідь завдання 1:"
      ]
    },
    {
      "cell_type": "code",
      "execution_count": 196,
      "metadata": {},
      "outputs": [
        {
          "name": "stdout",
          "output_type": "stream",
          "text": [
            "[0.29863982 0.11797703 0.85746353 0.69909613 0.94414687 0.96080516\n",
            " 0.84240253 0.89577905 0.57944431 0.53304756] \n",
            "Розмір вектора   (10,)\n",
            "\n",
            " [[11 14 17]\n",
            " [20 23 26]\n",
            " [29 32 35]] \n",
            "Розмір матриці  (3, 3)\n"
          ]
        }
      ],
      "source": [
        "import numpy as np\n",
        "import random\n",
        "vector = np.random.rand(10)\n",
        "print(vector, '\\nРозмір вектора  ', vector.shape)\n",
        "\n",
        "matrix = np.array([[11,14, 17],\n",
        "                   [20, 23, 26],\n",
        "                    [29, 32, 35]])\n",
        "print('\\n', matrix, '\\nРозмір матриці ', matrix.shape)"
      ]
    },
    {
      "cell_type": "markdown",
      "metadata": {
        "id": "TSJ1P4OuOVe2"
      },
      "source": [
        "\n",
        "### Завдання 2: Операції над векторами та матрицями\n",
        "Виконайте кожну з зазначених операцій над зазначеними оʼєктами і виведіть результат на екран:\n",
        "1. Додайте до кожного значення вектора `vector` число 10 і округліть кожне значення до 2 знаків після коми без використання циклів.\n",
        "2. Помножте кожен елемент матриці з першого завдання на 2 без використання циклів.\n",
        "3. Створіть новий вектор, який містить квадрат кожного `vector` без циклів.\n"
      ]
    },
    {
      "cell_type": "markdown",
      "metadata": {},
      "source": [
        "### Відповідь завдання 2:"
      ]
    },
    {
      "cell_type": "code",
      "execution_count": 197,
      "metadata": {
        "id": "nAAojtyUVJXN"
      },
      "outputs": [
        {
          "name": "stdout",
          "output_type": "stream",
          "text": [
            "[10.3  10.12 10.86 10.7  10.94 10.96 10.84 10.9  10.58 10.53]\n"
          ]
        }
      ],
      "source": [
        "# 1\n",
        "vector = np.round(vector + 10, 2)\n",
        "print(vector)"
      ]
    },
    {
      "cell_type": "code",
      "execution_count": 198,
      "metadata": {},
      "outputs": [
        {
          "name": "stdout",
          "output_type": "stream",
          "text": [
            "[[22 28 34]\n",
            " [40 46 52]\n",
            " [58 64 70]]\n"
          ]
        }
      ],
      "source": [
        "# 2\n",
        "matrix = matrix * 2\n",
        "print(matrix)"
      ]
    },
    {
      "cell_type": "code",
      "execution_count": 199,
      "metadata": {},
      "outputs": [
        {
          "name": "stdout",
          "output_type": "stream",
          "text": [
            "[106.09   102.4144 117.9396 114.49   119.6836 120.1216 117.5056 118.81\n",
            " 111.9364 110.8809]\n"
          ]
        }
      ],
      "source": [
        "# 3\n",
        "vector = vector ** 2\n",
        "print(vector)"
      ]
    },
    {
      "cell_type": "markdown",
      "metadata": {
        "id": "u6RvWVfhPy-k"
      },
      "source": [
        "\n",
        "### Завдання 3: Множення матриць\n",
        "1. Задані дві матриці `A` і `B`розмірностями 3x2 та 2х3. Виконайте їхнє множення, щоб отримати матрицю 2x2. Виведіть результуючу матрицю `result_matrix` на екран.\n",
        "\n",
        "2. Заданий вектор `C` розмірністю 2х1. Подумайте спочатку, яку розмірність Ви отрмаєте, коли домножите `result_matrix` на вектор `C` і який результат буде. А потім виконайте множення і виведіть результат на екран.\n",
        "\n",
        "3. Задана матриця `D` розмірністю 2х2. Подумайте спочатку, яку розмірність Ви отрмаєте, коли домножите `result_matrix` на матрицю `D` і який результат буде. А потім виконайте множення і виведіть результат на екран."
      ]
    },
    {
      "cell_type": "code",
      "execution_count": 200,
      "metadata": {
        "id": "RwXfPzlbSJ44"
      },
      "outputs": [
        {
          "data": {
            "text/plain": [
              "array([[0.18, 0.53],\n",
              "       [0.75, 0.47],\n",
              "       [0.35, 0.21]])"
            ]
          },
          "metadata": {},
          "output_type": "display_data"
        },
        {
          "data": {
            "text/plain": [
              "array([[0.17, 0.58, 0.75],\n",
              "       [0.38, 0.11, 0.15]])"
            ]
          },
          "metadata": {},
          "output_type": "display_data"
        },
        {
          "data": {
            "text/plain": [
              "array([[0],\n",
              "       [1]])"
            ]
          },
          "metadata": {},
          "output_type": "display_data"
        },
        {
          "data": {
            "text/plain": [
              "array([[0, 1],\n",
              "       [1, 0]])"
            ]
          },
          "metadata": {},
          "output_type": "display_data"
        }
      ],
      "source": [
        "A = np.array(\n",
        "    [[0.18, 0.53],\n",
        "     [0.75, 0.47],\n",
        "     [0.35, 0.21]])\n",
        "\n",
        "B = np.array(\n",
        "    [[0.17, 0.58, 0.75],\n",
        "     [0.38, 0.11, 0.15]])\n",
        "\n",
        "C = np.array([[0], [1]])\n",
        "\n",
        "D = np.array([[0,1], [1,0]])\n",
        "\n",
        "display(A, B, C, D)"
      ]
    },
    {
      "cell_type": "markdown",
      "metadata": {},
      "source": [
        "### Відповідь завдання 3:"
      ]
    },
    {
      "cell_type": "code",
      "execution_count": 201,
      "metadata": {
        "id": "z7-boTbhVKkj"
      },
      "outputs": [
        {
          "name": "stdout",
          "output_type": "stream",
          "text": [
            "Результирующая матрица result_matrix розмірністю (2, 2) \n",
            " [[0.7281 0.5202]\n",
            " [0.2034 0.2846]]\n"
          ]
        }
      ],
      "source": [
        "# 1\n",
        "result_matrix = np.dot(B, A)\n",
        "print('Результирующая матрица result_matrix розмірністю', result_matrix.shape, '\\n',  result_matrix)"
      ]
    },
    {
      "cell_type": "code",
      "execution_count": 202,
      "metadata": {},
      "outputs": [
        {
          "name": "stdout",
          "output_type": "stream",
          "text": [
            "Результирующая матрица result_matrix помножена на вектор С\n",
            " [[0.5202]\n",
            " [0.2846]]\n"
          ]
        }
      ],
      "source": [
        "# 2 чекаємо вектор розмірністю 2*1\n",
        "result_matrix_C = np.dot(result_matrix, C)\n",
        "print('Результирующая матрица result_matrix помножена на вектор С\\n', result_matrix_C)"
      ]
    },
    {
      "cell_type": "code",
      "execution_count": 203,
      "metadata": {},
      "outputs": [
        {
          "name": "stdout",
          "output_type": "stream",
          "text": [
            "Результирующая матрица result_matrix помножена на матрицю D\n",
            " [[0.5202 0.7281]\n",
            " [0.2846 0.2034]]\n"
          ]
        }
      ],
      "source": [
        "# 3 чекаємо матрицю розмірністю 2*2\n",
        "result_matrix_D = np.dot(result_matrix, D)\n",
        "print('Результирующая матрица result_matrix помножена на матрицю D\\n', result_matrix_D)"
      ]
    },
    {
      "cell_type": "markdown",
      "metadata": {
        "id": "wohp0_cxSGpl"
      },
      "source": [
        "\n",
        "### Завдання 4: Транспонування матриць\n",
        "1. Транспонуйте `result_matrix`.\n",
        "2. Зробіть транспонування вектора `vector` і виведіть форму нової структури. Чи бачите ви зміну?\n",
        "3. Використайте операцію `numpy.expand_dims` над вектором `vector` з аргументом axis=1. Запишіть отриманий результат в змінну `column_vector` і виведіть на екран. Порівняйте з `vector`.\n",
        "4. Зробіть транспонування `column_vector`, виведіть результат на екран разом з розмірностями отриманої структури.\n",
        "\n",
        "\n"
      ]
    },
    {
      "cell_type": "markdown",
      "metadata": {},
      "source": [
        "### Відповідь завдання 4:"
      ]
    },
    {
      "cell_type": "code",
      "execution_count": 204,
      "metadata": {
        "id": "4hFcq1baVLii"
      },
      "outputs": [
        {
          "data": {
            "text/plain": [
              "array([[0.7281, 0.2034],\n",
              "       [0.5202, 0.2846]])"
            ]
          },
          "execution_count": 204,
          "metadata": {},
          "output_type": "execute_result"
        }
      ],
      "source": [
        "# 1\n",
        "result_matrix.T"
      ]
    },
    {
      "cell_type": "code",
      "execution_count": 205,
      "metadata": {},
      "outputs": [
        {
          "name": "stdout",
          "output_type": "stream",
          "text": [
            "[106.09   102.4144 117.9396 114.49   119.6836 120.1216 117.5056 118.81\n",
            " 111.9364 110.8809] (10,)\n",
            "[106.09   102.4144 117.9396 114.49   119.6836 120.1216 117.5056 118.81\n",
            " 111.9364 110.8809] (10,)\n"
          ]
        }
      ],
      "source": [
        "# 2\n",
        "print(vector, vector.shape)\n",
        "print(vector.T,  vector.shape)"
      ]
    },
    {
      "cell_type": "markdown",
      "metadata": {},
      "source": [
        "Після транспонування змін не відбулося"
      ]
    },
    {
      "cell_type": "code",
      "execution_count": 211,
      "metadata": {},
      "outputs": [
        {
          "name": "stdout",
          "output_type": "stream",
          "text": [
            "Початковий вектор\n",
            " [106.09   102.4144 117.9396 114.49   119.6836 120.1216 117.5056 118.81\n",
            " 111.9364 110.8809] (10,)\n",
            "Перетворений вектор\n",
            " [[106.09  ]\n",
            " [102.4144]\n",
            " [117.9396]\n",
            " [114.49  ]\n",
            " [119.6836]\n",
            " [120.1216]\n",
            " [117.5056]\n",
            " [118.81  ]\n",
            " [111.9364]\n",
            " [110.8809]] (10, 1)\n"
          ]
        }
      ],
      "source": [
        "# 3\n",
        "column_vector = np.expand_dims(vector, axis=1)\n",
        "print('Початковий вектор\\n', vector, vector.shape)\n",
        "print('Перетворений вектор\\n', column_vector, column_vector.shape)"
      ]
    },
    {
      "cell_type": "markdown",
      "metadata": {},
      "source": [
        "Функцією expand_dims додали вимір і вектор перетворився на матрицю з одним стовпцем"
      ]
    },
    {
      "cell_type": "code",
      "execution_count": 216,
      "metadata": {},
      "outputs": [
        {
          "name": "stdout",
          "output_type": "stream",
          "text": [
            "Перетворений вектор у транспонованому вигляді\n",
            " [[106.09   102.4144 117.9396 114.49   119.6836 120.1216 117.5056 118.81\n",
            "  111.9364 110.8809]] (1, 10)\n"
          ]
        }
      ],
      "source": [
        "# 4\n",
        "column_vector_trans = column_vector.T\n",
        "print('Перетворений вектор у транспонованому вигляді\\n', column_vector_trans, column_vector_trans.shape)"
      ]
    },
    {
      "cell_type": "markdown",
      "metadata": {},
      "source": [
        "Після перетворення вектора на матрицю він транспонується як матриця - зі стовпця транспонувався у однорядкову матрицю. "
      ]
    }
  ],
  "metadata": {
    "colab": {
      "provenance": []
    },
    "kernelspec": {
      "display_name": "Python 3",
      "name": "python3"
    },
    "language_info": {
      "codemirror_mode": {
        "name": "ipython",
        "version": 3
      },
      "file_extension": ".py",
      "mimetype": "text/x-python",
      "name": "python",
      "nbconvert_exporter": "python",
      "pygments_lexer": "ipython3",
      "version": "3.13.3"
    }
  },
  "nbformat": 4,
  "nbformat_minor": 0
}
